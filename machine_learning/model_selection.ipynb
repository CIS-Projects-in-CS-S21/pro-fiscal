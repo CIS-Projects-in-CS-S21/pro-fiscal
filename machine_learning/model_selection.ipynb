{
 "cells": [
  {
   "cell_type": "code",
   "execution_count": 1,
   "id": "64182741",
   "metadata": {},
   "outputs": [],
   "source": [
    "import numpy as np\n",
    "import pandas as pd"
   ]
  },
  {
   "cell_type": "code",
   "execution_count": 2,
   "id": "4038d6a6",
   "metadata": {},
   "outputs": [
    {
     "name": "stdout",
     "output_type": "stream",
     "text": [
      "           date     cost                               description  \\\n",
      "0    2014-08-11   184.22                               Ski tickets   \n",
      "1    2011-09-21  4034.86                               Edfinancial   \n",
      "2    2010-05-27   283.24                                  GME YOLO   \n",
      "3    2019-02-21  9012.58                                  Pet food   \n",
      "4    2015-01-09   850.34                                  GME YOLO   \n",
      "..          ...      ...                                       ...   \n",
      "245  2012-01-20  5812.81    Deposit in savings at Bank of the West   \n",
      "246  2018-01-10  3449.14  Blue Cross Bleu Shield of North Carolina   \n",
      "247  2017-07-22  5059.13                               Capital One   \n",
      "248  2010-05-01  1023.06                                ExxonMobil   \n",
      "249  2015-10-17   233.35                                  Vacation   \n",
      "\n",
      "               category  Non-Essentials  Education  Other  Debt  Savings  \\\n",
      "0        Non-Essentials               0          0      0     0        0   \n",
      "1             Education               0          0      0     0        0   \n",
      "2                 Other               0          0      3     0        0   \n",
      "3             Education               0          0      0     0        0   \n",
      "4                 Other               0          0      3     0        0   \n",
      "..                  ...             ...        ...    ...   ...      ...   \n",
      "245             Savings               0          0      0     1        4   \n",
      "246  Medical/Healthcare               0          0      0     0        0   \n",
      "247           Education               0          0      0     0        0   \n",
      "248           Utilities               0          0      0     0        0   \n",
      "249       Entertainment               0          0      0     0        0   \n",
      "\n",
      "     Transportation  Essentials  Utilities  Housing  Entertainment  \\\n",
      "0                 0           0          0        0              0   \n",
      "1                 0           0          0        0              0   \n",
      "2                 0           0          0        0              0   \n",
      "3                 0           0          0        0              0   \n",
      "4                 0           0          0        0              0   \n",
      "..              ...         ...        ...      ...            ...   \n",
      "245               0           0          0        0              0   \n",
      "246               0           0          0        0              0   \n",
      "247               0           0          0        0              0   \n",
      "248               0           0          0        0              0   \n",
      "249               0           0          0        0              0   \n",
      "\n",
      "     Retirement  Medical/Healthcare  Insurance  Groceries/Household  \n",
      "0             0                   0          0                    0  \n",
      "1             0                   0          0                    0  \n",
      "2             0                   0          0                    0  \n",
      "3             0                   0          0                    0  \n",
      "4             0                   0          0                    0  \n",
      "..          ...                 ...        ...                  ...  \n",
      "245           0                   0          0                    0  \n",
      "246           0                   2          0                    0  \n",
      "247           0                   0          0                    0  \n",
      "248           0                   0          0                    0  \n",
      "249           0                   0          0                    0  \n",
      "\n",
      "[250 rows x 18 columns]\n"
     ]
    }
   ],
   "source": [
    "lex_frame = pd.read_pickle('./processed_data.pkl')\n",
    "\n",
    "print(lex_frame)"
   ]
  },
  {
   "cell_type": "code",
   "execution_count": 3,
   "id": "83ca68ec",
   "metadata": {},
   "outputs": [],
   "source": [
    "data = lex_frame['description']\n",
    "target = lex_frame[lex_frame.columns[4:]]"
   ]
  },
  {
   "cell_type": "code",
   "execution_count": 4,
   "id": "7503a304",
   "metadata": {},
   "outputs": [
    {
     "name": "stdout",
     "output_type": "stream",
     "text": [
      "0          Non-Essentials\n",
      "1               Education\n",
      "2                   Other\n",
      "3               Education\n",
      "4                   Other\n",
      "              ...        \n",
      "245               Savings\n",
      "246    Medical/Healthcare\n",
      "247             Education\n",
      "248             Utilities\n",
      "249         Entertainment\n",
      "Name: category, Length: 250, dtype: object\n",
      "[12, 8, 13, 8, 13, 2, 6, 1, 11, 11, 1, 4, 0, 6, 4, 10, 8, 6, 10, 8, 6, 11, 2, 10, 1, 7, 8, 2, 11, 5, 12, 7, 5, 13, 12, 3, 11, 11, 11, 1, 1, 5, 3, 11, 9, 13, 0, 2, 2, 2, 13, 9, 8, 12, 6, 3, 3, 11, 7, 10, 13, 1, 0, 2, 3, 2, 6, 1, 7, 3, 10, 13, 3, 1, 8, 7, 7, 13, 12, 2, 1, 10, 3, 3, 10, 12, 3, 6, 7, 8, 10, 6, 1, 11, 4, 4, 1, 9, 6, 0, 10, 8, 11, 0, 11, 5, 10, 9, 3, 0, 4, 6, 8, 5, 8, 1, 6, 8, 5, 11, 13, 2, 1, 10, 3, 8, 10, 0, 7, 11, 5, 10, 1, 6, 2, 1, 10, 4, 2, 10, 8, 12, 10, 8, 6, 10, 6, 11, 12, 4, 10, 4, 2, 8, 10, 4, 3, 11, 13, 4, 12, 3, 4, 13, 11, 4, 9, 4, 1, 9, 3, 3, 8, 4, 6, 2, 10, 2, 3, 2, 10, 3, 0, 9, 3, 1, 3, 0, 3, 11, 5, 9, 12, 6, 9, 12, 3, 13, 7, 0, 3, 9, 10, 10, 12, 4, 4, 8, 11, 12, 7, 5, 0, 11, 5, 11, 2, 6, 0, 0, 7, 0, 3, 4, 1, 1, 7, 5, 7, 5, 9, 4, 3, 0, 5, 7, 4, 5, 2, 10, 2, 1, 11, 7, 8, 6, 5, 8, 4, 10]\n"
     ]
    }
   ],
   "source": [
    "cats = lex_frame['category']\n",
    "\n",
    "print(cats)\n",
    "\n",
    "cat_dict = {'Housing': 0, 'Transportation': 1, 'Debt': 2, 'Insurance': 3,\n",
    "            'Utilities': 4, 'Medical/Healthcare': 5, 'Savings': 6, 'Retirement': 7,\n",
    "            'Education': 8, 'Groceries/Household': 9, 'Entertainment': 10, 'Essentials': 11,\n",
    "            'Non-Essentials': 12, 'Other': 13}\n",
    "\n",
    "cats_int = []\n",
    "for item in cats:\n",
    "    cats_int.append(cat_dict.get(item))\n",
    "\n",
    "print(cats_int)"
   ]
  },
  {
   "cell_type": "code",
   "execution_count": 5,
   "id": "c14ed4b8",
   "metadata": {},
   "outputs": [
    {
     "name": "stdout",
     "output_type": "stream",
     "text": [
      "0                                   Ski tickets\n",
      "1                                   Edfinancial\n",
      "2                                      GME YOLO\n",
      "3                                      Pet food\n",
      "4                                      GME YOLO\n",
      "                         ...                   \n",
      "245      Deposit in savings at Bank of the West\n",
      "246    Blue Cross Bleu Shield of North Carolina\n",
      "247                                 Capital One\n",
      "248                                  ExxonMobil\n",
      "249                                    Vacation\n",
      "Name: description, Length: 250, dtype: object\n",
      "     Non-Essentials  Education  Other  Debt  Savings  Transportation  \\\n",
      "0                 0          0      0     0        0               0   \n",
      "1                 0          0      0     0        0               0   \n",
      "2                 0          0      3     0        0               0   \n",
      "3                 0          0      0     0        0               0   \n",
      "4                 0          0      3     0        0               0   \n",
      "..              ...        ...    ...   ...      ...             ...   \n",
      "245               0          0      0     1        4               0   \n",
      "246               0          0      0     0        0               0   \n",
      "247               0          0      0     0        0               0   \n",
      "248               0          0      0     0        0               0   \n",
      "249               0          0      0     0        0               0   \n",
      "\n",
      "     Essentials  Utilities  Housing  Entertainment  Retirement  \\\n",
      "0             0          0        0              0           0   \n",
      "1             0          0        0              0           0   \n",
      "2             0          0        0              0           0   \n",
      "3             0          0        0              0           0   \n",
      "4             0          0        0              0           0   \n",
      "..          ...        ...      ...            ...         ...   \n",
      "245           0          0        0              0           0   \n",
      "246           0          0        0              0           0   \n",
      "247           0          0        0              0           0   \n",
      "248           0          0        0              0           0   \n",
      "249           0          0        0              0           0   \n",
      "\n",
      "     Medical/Healthcare  Insurance  Groceries/Household  \n",
      "0                     0          0                    0  \n",
      "1                     0          0                    0  \n",
      "2                     0          0                    0  \n",
      "3                     0          0                    0  \n",
      "4                     0          0                    0  \n",
      "..                  ...        ...                  ...  \n",
      "245                   0          0                    0  \n",
      "246                   2          0                    0  \n",
      "247                   0          0                    0  \n",
      "248                   0          0                    0  \n",
      "249                   0          0                    0  \n",
      "\n",
      "[250 rows x 14 columns]\n"
     ]
    }
   ],
   "source": [
    "print(data)\n",
    "print(target)"
   ]
  },
  {
   "cell_type": "code",
   "execution_count": 6,
   "id": "511c3ada",
   "metadata": {},
   "outputs": [],
   "source": [
    "#from sklearn import svm\n",
    "\n",
    "#clf = svm.SVC(kernel='linear', C=1, decision_function_shape='ovo')\n"
   ]
  },
  {
   "cell_type": "code",
   "execution_count": 7,
   "id": "b0e3dd85",
   "metadata": {},
   "outputs": [],
   "source": [
    "from nltk.tokenize import word_tokenize\n",
    "from nltk import pos_tag\n",
    "from nltk.corpus import stopwords\n",
    "from nltk.stem import WordNetLemmatizer\n",
    "from sklearn.preprocessing import LabelEncoder\n",
    "from collections import defaultdict\n",
    "from nltk.corpus import wordnet as wn\n",
    "from sklearn.feature_extraction.text import TfidfVectorizer\n",
    "from sklearn import model_selection, naive_bayes, svm\n",
    "from sklearn.metrics import accuracy_score"
   ]
  },
  {
   "cell_type": "code",
   "execution_count": 8,
   "id": "d13a12e0",
   "metadata": {},
   "outputs": [
    {
     "name": "stdout",
     "output_type": "stream",
     "text": [
      "[\"['ski', 'ticket']\", \"['edfinancial']\", \"['gme', 'yolo']\", \"['pet', 'food']\", \"['gme', 'yolo']\", \"['credit', 'card', 'bill', 'umpqua', 'holding', 'corporation']\", \"['saving', 'deposit', 'comerica']\", \"['mta']\", \"['emergency']\", \"['emergency']\", \"['capitol', 'corridor']\", \"['public', 'service', 'elec', 'gas']\", \"['ubs', 'bank']\", \"['saving', 'deposit', 'bankunited']\", \"['water']\", \"['vacation']\", \"['tuition']\", \"['deposit', 'saving', 'american', 'express']\", \"['museum']\", \"['school', 'supply']\", \"['deposit', 'saving', 'ubs']\", \"['sudden', 'travel', 'expense']\", \"['credit', 'card', 'bill', 'iberiabank']\", \"['movie']\", \"['mta', 'maryland']\", \"['retirement', 'account', 'sumitomo', 'mitsui', 'financial', 'group']\", \"['textbook']\", \"['bill', 'fulton', 'financial', 'corporation']\", \"['emergency']\", \"['blue', 'cross', 'blue', 'shield', 'vermont']\", \"['new', 'tv']\", \"['retirement', 'fund', 'rbc', 'bank']\", \"['louisiana', 'medical', 'service']\", \"['gme', 'yolo']\", \"['new', 'tv']\", \"['farmer', 'insurance']\", \"['vet', 'bill']\", \"['sudden', 'travel', 'expense']\", \"['emergency']\", \"['septum']\", \"['tren', 'urbano']\", \"['mulberry', 'health']\", \"['auto', 'club', 'group']\", \"['emergency']\", \"['cleaning', 'supply']\", \"['gme', 'yolo']\", \"['financial', 'service']\", \"['loan', 'payment']\", \"['bill', 'northern', 'trust']\", \"['credit', 'card', 'bill', 'bank', 'west']\", \"['gme', 'yolo']\", \"['vons']\", \"['fedloan', 'servicing']\", \"['black', 'friday', 'sale']\", \"['saving', 'deposit', 'western', 'alliance', 'bank']\", \"['liberty', 'mutual']\", \"['mercury', 'general']\", \"['vet', 'bill']\", \"['retirement', 'fund', 'citigroup']\", \"['movie']\", \"['gme', 'yolo']\", \"['mbta', 'commuter', 'rail']\", \"['movement', 'mortgage']\", \"['loan', 'payment', 'western', 'alliance', 'bank']\", \"['partnerre', 'u']\", \"['bill', 'fifth', 'third', 'bank']\", \"['deposit', 'saving', 'rymond', 'james', 'financial']\", \"['sounder', 'commuter', 'rail']\", \"['retirement', 'account', 'south', 'state', 'bank']\", \"['state', 'farm']\", \"['museum']\", \"['gme', 'yolo']\", \"['allstate']\", \"['port', 'authority']\", \"['school', 'supply']\", \"['retirement', 'account', 'webster', 'bank']\", \"['retirement', 'fund', 'atlantic', 'union', 'bank']\", \"['gme', 'yolo']\", \"['ski', 'ticket']\", \"['loan', 'payment', 'bank', 'america']\", \"['king', 'county', 'metro']\", \"['din']\", \"['hartford', 'insurance']\", \"['usaa']\", \"['sport', 'game']\", \"['black', 'friday', 'sale']\", \"['everest']\", \"['deposit', 'saving', 'texas', 'captial', 'bank']\", \"['retirement', 'fund', 'barclays']\", \"['american', 'express']\", \"['book']\", \"['deposit', 'saving', 'city', 'national', 'bank', 'florida']\", \"['metro']\", \"['emergency']\", \"['internet', 'bill']\", \"['xcel', 'energy']\", \"['caltrain']\", \"['brookshire']\", \"['saving', 'deposit', 'bank', 'new', 'york', 'mellon']\", \"['umpqua', 'bank']\", \"['movie']\", \"['education', 'loan', 'finance']\", \"['sudden', 'travel', 'expense']\", \"['ubs', 'bank']\", \"['vet', 'bill']\", \"['blue', 'cross', 'blue', 'shield', 'vermont']\", \"['book']\", \"['price', 'chopper']\", \"['partnerre', 'u']\", \"['homebridge', 'financial', 'service']\", \"['dte', 'energy']\", \"['deposit', 'saving', 'keycorp']\", \"['bank', 'america']\", \"['arkanas', 'blue', 'cross', 'blue', 'shield']\", \"['navient']\", '[]', \"['deposit', 'saving', 'first', 'horizon', 'national', 'corporation']\", \"['sallie', 'mae']\", \"['medical', 'mutual', 'ohio']\", \"['sudden', 'travel', 'expense']\", \"['gme', 'yolo']\", \"['bill', 'arvest', 'bank']\", \"['chicago', 'l']\", \"['movie']\", \"['csaa', 'insurance']\", \"['great', 'lake', 'educational', 'loan', 'service']\", \"['book']\", \"['lakeview', 'loan', 'servicing']\", \"['retirement', 'fund', 'iberiabank']\", \"['emergency']\", \"['noridian', 'mutual', 'insurance', 'co']\", \"['museum']\", \"['rtc', 'transist']\", \"['deposit', 'saving', 'old', 'national', 'bank']\", \"['credit', 'card', 'bill', 'silicon', 'valley', 'bank']\", \"['muni']\", \"['din']\", \"['chevron']\", \"['bill', 'firstbank', 'hold', 'co']\", \"['vacation']\", \"['ecsi']\", \"['new', 'tv']\", \"['sport', 'game']\", \"['online', 'course']\", \"['deposit', 'saving', 'fnb', 'corporation']\", \"['vacation']\", \"['deposit', 'saving', 'tcf', 'financial']\", \"['sudden', 'travel', 'expense']\", \"['new', 'tv']\", \"['conocophillips']\", \"['vacation']\", \"['dominion', 'energy']\", \"['bill', 'rymond', 'james', 'financial']\", \"['bank']\", \"['din']\", \"['southern', 'company']\", \"['hanover', 'insurance', 'group']\", \"['sudden', 'travel', 'expense']\", \"['gme', 'yolo']\", \"['georgia', 'power']\", \"['ski', 'ticket']\", \"['nationwide']\", \"['duke', 'energy', 'carolina']\", \"['gme', 'yolo']\", \"['vet', 'bill']\", \"['public', 'service', 'elec', 'gas']\", '[]', \"['phillips']\", \"['rtc', 'transist']\", \"['sam', 'club']\", \"['mercury', 'general']\", \"['old', 'republic']\", \"['pet', 'food']\", \"['firstenergy']\", \"['saving', 'deposit', 'western', 'alliance', 'bank']\", \"['loan', 'payment', 'centerstate', 'bank']\", \"['museum']\", \"['credit', 'card', 'bill']\", \"['state', 'farm']\", \"['credit', 'card', 'bill', 'cit', 'group']\", \"['din']\", \"['mapfre', 'north', 'america']\", \"['cherry', 'creek', 'mortage']\", \"['pavilion']\", \"['chubb', 'ina']\", \"['mbta', 'commuter', 'rail']\", \"['cincinnati']\", \"['primary', 'residential', 'mortgage']\", \"['allianz', 'america']\", \"['sudden', 'travel', 'expense']\", \"['blue', 'cross', 'blue', 'shield', 'south', 'carolina']\", \"['albertsons']\", \"['black', 'friday', 'sale']\", \"['saving', 'deposit', 'td', 'bank']\", \"['homegoods']\", \"['new', 'tv']\", \"['emc', 'insurance']\", \"['gme', 'yolo']\", \"['retirement', 'fund', 'charles', 'schwab', 'corporation']\", \"['quicken', 'loan']\", \"['usaa']\", \"['star', 'market']\", \"['sport', 'game']\", \"['movie']\", \"['new', 'tv']\", \"['consolidated', 'edison']\", \"['oneok']\", \"['discover']\", \"['emergency']\", \"['new', 'tv']\", \"['retirement', 'fund', 'bbva', 'usa']\", \"['anthem']\", \"['american', 'financing', 'corporation']\", \"['emergency']\", \"['anthem', 'inc']\", \"['sudden', 'travel', 'expense']\", \"['credit', 'card', 'bill', 'firstbank', 'hold', 'co']\", \"['saving', 'deposit', 'synovus']\", \"['academy', 'mortgage']\", \"['suntrust', 'bank']\", \"['retirement', 'account', 'bnp', 'paribas']\", \"['provident', 'funding', 'associate']\", \"['federate', 'mutual']\", \"['southern', 'company']\", \"['train', 'ticket']\", '[]', \"['retirement', 'account', 'prosperity', 'bancshares']\", \"['caresource']\", \"['retirement', 'account', 'firstbank', 'hold', 'co']\", \"['anthem']\", \"['harp', 'food', 'store']\", \"['sempra', 'energy']\", \"['country', 'financial', 'pc']\", \"['cornerstone', 'home', 'lending']\", \"['wellmark']\", \"['retirement', 'account', 'mufg', 'union', 'bank']\", \"['dte', 'energy']\", \"['cigna']\", \"['bill', 'bankunited']\", \"['book']\", \"['loan', 'payment', 'bank']\", \"['chicago', 'l']\", \"['sudden', 'travel', 'expense']\", \"['retirement', 'fund', 'state', 'farm']\", \"['granite', 'state']\", \"['deposit', 'saving', 'bank', 'west']\", \"['blue', 'cross', 'bleu', 'shield', 'north', 'carolina']\", \"['capital', 'one']\", \"['exxonmobil']\", \"['vacation']\"]\n"
     ]
    }
   ],
   "source": [
    "#change all text to lower case\n",
    "data = [entry.lower() for entry in data]\n",
    "\n",
    "#tokenize\n",
    "data = [word_tokenize(entry) for entry in data]\n",
    "\n",
    "tag_map = defaultdict(lambda : wn.NOUN)\n",
    "tag_map['J'] = wn.ADJ\n",
    "tag_map['V'] = wn.VERB\n",
    "tag_map['R'] = wn.ADV\n",
    "\n",
    "data_final = []\n",
    "\n",
    "for index,entry in enumerate(data):\n",
    "    Final_words = []\n",
    "    # Initializing WordNetLemmatizer()\n",
    "    word_Lemmatized = WordNetLemmatizer()\n",
    "    # pos_tag function below will provide the 'tag' i.e if the word is Noun(N) or Verb(V) or something else.\n",
    "    for word, tag in pos_tag(entry):\n",
    "        # Below condition is to check for Stop words and consider only alphabets\n",
    "        if word not in stopwords.words('english') and word.isalpha():\n",
    "            word_Final = word_Lemmatized.lemmatize(word,tag_map[tag[0]])\n",
    "            Final_words.append(word_Final)\n",
    "    data[index] = str(Final_words)\n",
    "print(data)"
   ]
  },
  {
   "cell_type": "code",
   "execution_count": 9,
   "id": "f8e6379d",
   "metadata": {},
   "outputs": [],
   "source": [
    "X_train, X_test, y_train, y_test = model_selection.train_test_split(data, cats_int, test_size=0.25)"
   ]
  },
  {
   "cell_type": "code",
   "execution_count": 10,
   "id": "f372759f",
   "metadata": {},
   "outputs": [],
   "source": [
    "Tfidf_vect = TfidfVectorizer(max_features=50000)\n",
    "Tfidf_vect.fit(data)\n",
    "\n",
    "X_train_Tfidf = Tfidf_vect.transform(X_train)\n",
    "X_test_Tfidf = Tfidf_vect.transform(X_test)"
   ]
  },
  {
   "cell_type": "code",
   "execution_count": 11,
   "id": "f59300c5",
   "metadata": {},
   "outputs": [],
   "source": [
    "import pickle\n",
    "\n",
    "#save Tfidf_vect\n",
    "pickle.dump(Tfidf_vect, open('Tfidf_vect.pkl', 'wb'))"
   ]
  },
  {
   "cell_type": "code",
   "execution_count": 12,
   "id": "b0349a2f",
   "metadata": {},
   "outputs": [
    {
     "name": "stdout",
     "output_type": "stream",
     "text": [
      "{'ski': 199, 'ticket': 217, 'edfinancial': 71, 'gme': 105, 'yolo': 242, 'pet': 170, 'food': 96, 'credit': 60, 'card': 31, 'bill': 20, 'umpqua': 226, 'holding': 114, 'corporation': 55, 'saving': 190, 'deposit': 64, 'comerica': 49, 'mta': 147, 'emergency': 77, 'capitol': 29, 'corridor': 56, 'public': 178, 'service': 195, 'elec': 75, 'gas': 102, 'ubs': 225, 'bank': 16, 'bankunited': 17, 'water': 236, 'vacation': 231, 'tuition': 223, 'american': 7, 'express': 81, 'museum': 151, 'school': 191, 'supply': 210, 'sudden': 207, 'travel': 220, 'expense': 80, 'iberiabank': 119, 'movie': 146, 'maryland': 136, 'retirement': 184, 'account': 1, 'sumitomo': 208, 'mitsui': 142, 'financial': 89, 'group': 108, 'textbook': 215, 'fulton': 98, 'blue': 23, 'cross': 62, 'shield': 197, 'vermont': 233, 'new': 156, 'tv': 224, 'fund': 99, 'rbc': 181, 'louisiana': 132, 'medical': 138, 'farmer': 84, 'insurance': 122, 'vet': 234, 'septum': 194, 'tren': 221, 'urbano': 228, 'mulberry': 149, 'health': 112, 'auto': 14, 'club': 47, 'cleaning': 46, 'loan': 131, 'payment': 168, 'northern': 159, 'trust': 222, 'west': 239, 'vons': 235, 'fedloan': 86, 'servicing': 196, 'black': 21, 'friday': 97, 'sale': 187, 'western': 240, 'alliance': 3, 'liberty': 130, 'mutual': 152, 'mercury': 140, 'general': 103, 'citigroup': 44, 'mbta': 137, 'commuter': 50, 'rail': 180, 'movement': 145, 'mortgage': 144, 'partnerre': 166, 'fifth': 87, 'third': 216, 'rymond': 186, 'james': 124, 'sounder': 200, 'south': 201, 'state': 205, 'farm': 83, 'allstate': 5, 'port': 172, 'authority': 13, 'webster': 237, 'atlantic': 12, 'union': 227, 'america': 6, 'king': 126, 'county': 58, 'metro': 141, 'din': 65, 'hartford': 111, 'usaa': 230, 'sport': 203, 'game': 101, 'everest': 79, 'texas': 214, 'captial': 30, 'barclays': 18, 'book': 25, 'city': 45, 'national': 153, 'florida': 94, 'internet': 123, 'xcel': 241, 'energy': 78, 'caltrain': 27, 'brookshire': 26, 'york': 243, 'mellon': 139, 'education': 73, 'finance': 88, 'price': 174, 'chopper': 39, 'homebridge': 116, 'dte': 68, 'keycorp': 125, 'arkanas': 9, 'navient': 155, 'first': 91, 'horizon': 118, 'sallie': 188, 'mae': 133, 'ohio': 160, 'arvest': 10, 'chicago': 38, 'csaa': 63, 'great': 107, 'lake': 127, 'educational': 74, 'lakeview': 128, 'noridian': 157, 'co': 48, 'rtc': 185, 'transist': 219, 'old': 161, 'silicon': 198, 'valley': 232, 'muni': 150, 'chevron': 37, 'firstbank': 92, 'hold': 113, 'ecsi': 70, 'online': 164, 'course': 59, 'fnb': 95, 'tcf': 212, 'conocophillips': 52, 'dominion': 67, 'southern': 202, 'company': 51, 'hanover': 109, 'georgia': 104, 'power': 173, 'nationwide': 154, 'duke': 69, 'carolina': 33, 'phillips': 171, 'sam': 189, 'republic': 182, 'firstenergy': 93, 'centerstate': 34, 'cit': 43, 'mapfre': 134, 'north': 158, 'cherry': 36, 'creek': 61, 'mortage': 143, 'pavilion': 167, 'chubb': 40, 'ina': 120, 'cincinnati': 42, 'primary': 175, 'residential': 183, 'allianz': 4, 'albertsons': 2, 'td': 213, 'homegoods': 117, 'emc': 76, 'charles': 35, 'schwab': 192, 'quicken': 179, 'star': 204, 'market': 135, 'consolidated': 53, 'edison': 72, 'oneok': 163, 'discover': 66, 'bbva': 19, 'usa': 229, 'anthem': 8, 'financing': 90, 'inc': 121, 'synovus': 211, 'academy': 0, 'suntrust': 209, 'bnp': 24, 'paribas': 165, 'provident': 177, 'funding': 100, 'associate': 11, 'federate': 85, 'train': 218, 'prosperity': 176, 'bancshares': 15, 'caresource': 32, 'harp': 110, 'store': 206, 'sempra': 193, 'country': 57, 'pc': 169, 'cornerstone': 54, 'home': 115, 'lending': 129, 'wellmark': 238, 'mufg': 148, 'cigna': 41, 'granite': 106, 'bleu': 22, 'capital': 28, 'one': 162, 'exxonmobil': 82}\n"
     ]
    }
   ],
   "source": [
    "print(Tfidf_vect.vocabulary_)"
   ]
  },
  {
   "cell_type": "code",
   "execution_count": 13,
   "id": "6762b562",
   "metadata": {},
   "outputs": [
    {
     "name": "stdout",
     "output_type": "stream",
     "text": [
      "  (0, 220)\t0.5773502691896258\n",
      "  (0, 207)\t0.5773502691896258\n",
      "  (0, 80)\t0.5773502691896258\n",
      "  (1, 222)\t0.6500817097182894\n",
      "  (1, 159)\t0.6500817097182894\n",
      "  (1, 20)\t0.3934304784577467\n",
      "  (2, 168)\t0.6665369151342517\n",
      "  (2, 131)\t0.594609119724331\n",
      "  (2, 16)\t0.4496315552805114\n",
      "  (3, 243)\t0.5267185077346833\n",
      "  (3, 190)\t0.32340319716569293\n",
      "  (3, 156)\t0.39088451090022047\n",
      "  (3, 139)\t0.5267185077346833\n",
      "  (3, 64)\t0.32340319716569293\n",
      "  (3, 16)\t0.2883838942864323\n",
      "  (4, 224)\t0.7165342369245601\n",
      "  (4, 156)\t0.6975519244579134\n",
      "  (5, 234)\t0.812302285643018\n",
      "  (5, 20)\t0.5832366558603195\n",
      "  (6, 158)\t0.5797112904251026\n",
      "  (6, 134)\t0.6230242815710015\n",
      "  (6, 6)\t0.5251433750192415\n",
      "  (7, 187)\t0.5773502691896258\n",
      "  (7, 97)\t0.5773502691896258\n",
      "  (7, 21)\t0.5773502691896258\n",
      "  :\t:\n",
      "  (177, 190)\t0.4963192688621611\n",
      "  (177, 64)\t0.4963192688621611\n",
      "  (178, 197)\t0.3776685248614199\n",
      "  (178, 158)\t0.43296992425668973\n",
      "  (178, 62)\t0.3776685248614199\n",
      "  (178, 33)\t0.4100177697450564\n",
      "  (178, 23)\t0.3776685248614199\n",
      "  (178, 22)\t0.4653191691403262\n",
      "  (179, 129)\t0.5773502691896257\n",
      "  (179, 115)\t0.5773502691896257\n",
      "  (179, 54)\t0.5773502691896257\n",
      "  (180, 77)\t1.0\n",
      "  (181, 157)\t0.5737768471697848\n",
      "  (181, 152)\t0.4836330122974535\n",
      "  (181, 122)\t0.45053118480753795\n",
      "  (181, 48)\t0.4836330122974535\n",
      "  (182, 226)\t0.8618655500864528\n",
      "  (182, 16)\t0.507136839101811\n",
      "  (183, 230)\t1.0\n",
      "  (184, 224)\t0.7165342369245601\n",
      "  (184, 156)\t0.6975519244579134\n",
      "  (185, 188)\t0.7071067811865476\n",
      "  (185, 133)\t0.7071067811865476\n",
      "  (186, 149)\t0.7071067811865476\n",
      "  (186, 112)\t0.7071067811865476\n"
     ]
    }
   ],
   "source": [
    "print(X_train_Tfidf)"
   ]
  },
  {
   "cell_type": "code",
   "execution_count": 14,
   "id": "2c0f5892",
   "metadata": {},
   "outputs": [
    {
     "data": {
      "text/plain": [
       "SVC(C=1, decision_function_shape='ovo', kernel='linear')"
      ]
     },
     "execution_count": 14,
     "metadata": {},
     "output_type": "execute_result"
    }
   ],
   "source": [
    "linear = svm.SVC(kernel='linear', C=1, decision_function_shape='ovo')\n",
    "linear.fit(X_train_Tfidf, y_train)"
   ]
  },
  {
   "cell_type": "code",
   "execution_count": 15,
   "id": "f2cbd03d",
   "metadata": {},
   "outputs": [],
   "source": [
    "y_pred = linear.predict(X_test_Tfidf)"
   ]
  },
  {
   "cell_type": "code",
   "execution_count": 16,
   "id": "7ff7d321",
   "metadata": {},
   "outputs": [
    {
     "name": "stdout",
     "output_type": "stream",
     "text": [
      "Acc:  0.7301587301587301\n"
     ]
    }
   ],
   "source": [
    "print(\"Acc: \", accuracy_score(y_test, y_pred))"
   ]
  },
  {
   "cell_type": "code",
   "execution_count": 17,
   "id": "79ff1dee",
   "metadata": {},
   "outputs": [],
   "source": [
    "#save classifier\n",
    "pickle.dump(linear, open('linear_clf.pkl', 'wb'))"
   ]
  },
  {
   "cell_type": "code",
   "execution_count": null,
   "id": "df7e1ed7",
   "metadata": {},
   "outputs": [],
   "source": []
  }
 ],
 "metadata": {
  "kernelspec": {
   "display_name": "Python 3",
   "language": "python",
   "name": "python3"
  },
  "language_info": {
   "codemirror_mode": {
    "name": "ipython",
    "version": 3
   },
   "file_extension": ".py",
   "mimetype": "text/x-python",
   "name": "python",
   "nbconvert_exporter": "python",
   "pygments_lexer": "ipython3",
   "version": "3.8.8"
  }
 },
 "nbformat": 4,
 "nbformat_minor": 5
}
