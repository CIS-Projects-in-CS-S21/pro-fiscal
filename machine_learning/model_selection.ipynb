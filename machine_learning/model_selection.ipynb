{
 "cells": [
  {
   "cell_type": "code",
   "execution_count": 1,
   "id": "2c53587e",
   "metadata": {},
   "outputs": [],
   "source": [
    "import numpy as np\n",
    "import pandas as pd"
   ]
  },
  {
   "cell_type": "code",
   "execution_count": 2,
   "id": "68e02559",
   "metadata": {},
   "outputs": [
    {
     "name": "stdout",
     "output_type": "stream",
     "text": [
      "            date      cost                    description             category\n",
      "0     2014-08-11    184.22                    Ski tickets       Non-Essentials\n",
      "1     2011-09-21   4034.86                    Edfinancial            Education\n",
      "2     2010-05-27    283.24                       GME YOLO                Other\n",
      "3     2019-02-21   9012.58                       Pet food            Education\n",
      "4     2015-01-09    850.34                       GME YOLO                Other\n",
      "...          ...       ...                            ...                  ...\n",
      "2495  2020-04-11   9767.54  Retirement fund at Frost Bank           Retirement\n",
      "2496  2015-04-16  11622.39             Molina Health Care   Medical/Healthcare\n",
      "2497  2015-04-15    157.76                           Tops  Groceries/Household\n",
      "2498  2012-03-13    420.79                   PartnerRe US            Insurance\n",
      "2499  2013-12-01   1212.40            MetLife Auto & Home            Insurance\n",
      "\n",
      "[2500 rows x 4 columns]\n"
     ]
    }
   ],
   "source": [
    "lex_frame = pd.read_csv(\"data_test2.csv\", names=[\"date\", \"cost\", \"description\", \"category\"])\n",
    "\n",
    "\n",
    "print(lex_frame)"
   ]
  },
  {
   "cell_type": "code",
   "execution_count": 3,
   "id": "6b9367f4",
   "metadata": {},
   "outputs": [],
   "source": [
    "data = lex_frame['description']\n",
    "target = lex_frame[lex_frame.columns[4:]]"
   ]
  },
  {
   "cell_type": "code",
   "execution_count": 4,
   "id": "a370b83b",
   "metadata": {},
   "outputs": [
    {
     "name": "stdout",
     "output_type": "stream",
     "text": [
      "0            Non-Essentials\n",
      "1                 Education\n",
      "2                     Other\n",
      "3                 Education\n",
      "4                     Other\n",
      "               ...         \n",
      "2495             Retirement\n",
      "2496     Medical/Healthcare\n",
      "2497    Groceries/Household\n",
      "2498              Insurance\n",
      "2499              Insurance\n",
      "Name: category, Length: 2500, dtype: object\n"
     ]
    }
   ],
   "source": [
    "cats = lex_frame['category']\n",
    "\n",
    "print(cats)\n",
    "\n",
    "cat_dict = {'Housing': 0, 'Transportation': 1, 'Debt': 2, 'Insurance': 3,\n",
    "            'Utilities': 4, 'Medical/Healthcare': 5, 'Savings': 6, 'Retirement': 7,\n",
    "            'Education': 8, 'Groceries/Household': 9, 'Entertainment': 10, 'Essentials': 11,\n",
    "            'Non-Essentials': 12, 'Other': 13}\n",
    "\n",
    "cats_int = []\n",
    "for item in cats:\n",
    "    cats_int.append(cat_dict.get(item))\n",
    "\n",
    "#print(cats_int)"
   ]
  },
  {
   "cell_type": "code",
   "execution_count": 5,
   "id": "97336560",
   "metadata": {},
   "outputs": [
    {
     "name": "stdout",
     "output_type": "stream",
     "text": [
      "0                         Ski tickets\n",
      "1                         Edfinancial\n",
      "2                            GME YOLO\n",
      "3                            Pet food\n",
      "4                            GME YOLO\n",
      "                    ...              \n",
      "2495    Retirement fund at Frost Bank\n",
      "2496               Molina Health Care\n",
      "2497                             Tops\n",
      "2498                     PartnerRe US\n",
      "2499              MetLife Auto & Home\n",
      "Name: description, Length: 2500, dtype: object\n",
      "Empty DataFrame\n",
      "Columns: []\n",
      "Index: [0, 1, 2, 3, 4, 5, 6, 7, 8, 9, 10, 11, 12, 13, 14, 15, 16, 17, 18, 19, 20, 21, 22, 23, 24, 25, 26, 27, 28, 29, 30, 31, 32, 33, 34, 35, 36, 37, 38, 39, 40, 41, 42, 43, 44, 45, 46, 47, 48, 49, 50, 51, 52, 53, 54, 55, 56, 57, 58, 59, 60, 61, 62, 63, 64, 65, 66, 67, 68, 69, 70, 71, 72, 73, 74, 75, 76, 77, 78, 79, 80, 81, 82, 83, 84, 85, 86, 87, 88, 89, 90, 91, 92, 93, 94, 95, 96, 97, 98, 99, ...]\n",
      "\n",
      "[2500 rows x 0 columns]\n"
     ]
    }
   ],
   "source": [
    "print(data)\n",
    "print(target)"
   ]
  },
  {
   "cell_type": "code",
   "execution_count": 6,
   "id": "2035d999",
   "metadata": {},
   "outputs": [],
   "source": [
    "#from sklearn import svm\n",
    "\n",
    "#clf = svm.SVC(kernel='linear', C=1, decision_function_shape='ovo')\n"
   ]
  },
  {
   "cell_type": "code",
   "execution_count": 7,
   "id": "81ac4e5e",
   "metadata": {},
   "outputs": [],
   "source": [
    "from nltk.tokenize import word_tokenize\n",
    "from nltk import pos_tag\n",
    "from nltk.corpus import stopwords\n",
    "from nltk.stem import WordNetLemmatizer\n",
    "from sklearn.preprocessing import LabelEncoder\n",
    "from collections import defaultdict\n",
    "from nltk.corpus import wordnet as wn\n",
    "from sklearn.feature_extraction.text import TfidfVectorizer\n",
    "from sklearn import model_selection, naive_bayes, svm\n",
    "from sklearn.metrics import accuracy_score"
   ]
  },
  {
   "cell_type": "code",
   "execution_count": 8,
   "id": "bebcc479",
   "metadata": {},
   "outputs": [],
   "source": [
    "#change all text to lower case\n",
    "data = [entry.lower() for entry in data]\n",
    "\n",
    "#tokenize\n",
    "data = [word_tokenize(entry) for entry in data]\n",
    "\n",
    "tag_map = defaultdict(lambda : wn.NOUN)\n",
    "tag_map['J'] = wn.ADJ\n",
    "tag_map['V'] = wn.VERB\n",
    "tag_map['R'] = wn.ADV\n",
    "\n",
    "data_final = []\n",
    "\n",
    "for index,entry in enumerate(data):\n",
    "    Final_words = []\n",
    "    # Initializing WordNetLemmatizer()\n",
    "    word_Lemmatized = WordNetLemmatizer()\n",
    "    # pos_tag function below will provide the 'tag' i.e if the word is Noun(N) or Verb(V) or something else.\n",
    "    for word, tag in pos_tag(entry):\n",
    "        # Below condition is to check for Stop words and consider only alphabets\n",
    "        if word not in stopwords.words('english') and word.isalpha():\n",
    "            word_Final = word_Lemmatized.lemmatize(word,tag_map[tag[0]])\n",
    "            Final_words.append(word_Final)\n",
    "    data[index] = str(Final_words)\n",
    "#print(data)"
   ]
  },
  {
   "cell_type": "code",
   "execution_count": 9,
   "id": "7d393d4a",
   "metadata": {},
   "outputs": [],
   "source": [
    "X_train, X_test, y_train, y_test = model_selection.train_test_split(data, cats_int, test_size=0.25)"
   ]
  },
  {
   "cell_type": "code",
   "execution_count": 10,
   "id": "1b2cc2c6",
   "metadata": {},
   "outputs": [],
   "source": [
    "Tfidf_vect = TfidfVectorizer(max_features=50000)\n",
    "Tfidf_vect.fit(data)\n",
    "\n",
    "X_train_Tfidf = Tfidf_vect.transform(X_train)\n",
    "X_test_Tfidf = Tfidf_vect.transform(X_test)"
   ]
  },
  {
   "cell_type": "code",
   "execution_count": 11,
   "id": "f42a9c43",
   "metadata": {},
   "outputs": [],
   "source": [
    "import pickle\n",
    "\n",
    "#save Tfidf_vect\n",
    "pickle.dump(Tfidf_vect, open('Tfidf_vect.pkl', 'wb'))"
   ]
  },
  {
   "cell_type": "code",
   "execution_count": 12,
   "id": "b123a247",
   "metadata": {},
   "outputs": [
    {
     "name": "stdout",
     "output_type": "stream",
     "text": [
      "{'ski': 467, 'ticket': 516, 'edfinancial': 146, 'gme': 214, 'yolo': 575, 'pet': 383, 'food': 197, 'credit': 121, 'card': 71, 'bill': 50, 'umpqua': 536, 'holding': 241, 'corporation': 116, 'saving': 447, 'deposit': 131, 'comerica': 103, 'mta': 335, 'emergency': 157, 'capitol': 68, 'corridor': 117, 'public': 407, 'service': 456, 'elec': 151, 'gas': 208, 'ubs': 534, 'bank': 39, 'bankunited': 40, 'water': 557, 'vacation': 546, 'tuition': 531, 'american': 15, 'express': 169, 'museum': 339, 'school': 449, 'supply': 500, 'sudden': 493, 'travel': 524, 'expense': 168, 'iberiabank': 249, 'movie': 334, 'maryland': 305, 'retirement': 430, 'account': 2, 'sumitomo': 495, 'mitsui': 324, 'financial': 185, 'group': 220, 'textbook': 512, 'fulton': 204, 'blue': 53, 'cross': 123, 'shield': 459, 'vermont': 549, 'new': 350, 'tv': 532, 'fund': 205, 'rbc': 420, 'louisiana': 291, 'medical': 311, 'farmer': 178, 'insurance': 258, 'vet': 550, 'septum': 455, 'tren': 525, 'urbano': 542, 'mulberry': 337, 'health': 235, 'auto': 32, 'club': 98, 'cleaning': 97, 'loan': 289, 'payment': 378, 'northern': 358, 'trust': 529, 'west': 565, 'vons': 555, 'fedloan': 181, 'servicing': 457, 'black': 51, 'friday': 201, 'sale': 442, 'western': 566, 'alliance': 9, 'liberty': 284, 'mutual': 340, 'mercury': 315, 'general': 210, 'citigroup': 94, 'mbta': 308, 'commuter': 108, 'rail': 413, 'movement': 333, 'mortgage': 332, 'partnerre': 374, 'fifth': 182, 'third': 513, 'rymond': 439, 'james': 264, 'sounder': 473, 'south': 474, 'state': 482, 'farm': 177, 'allstate': 11, 'port': 394, 'authority': 31, 'webster': 558, 'atlantic': 30, 'union': 537, 'america': 14, 'king': 275, 'county': 119, 'metro': 317, 'din': 134, 'hartford': 229, 'usaa': 544, 'sport': 479, 'game': 207, 'everest': 164, 'texas': 511, 'captial': 69, 'barclays': 42, 'book': 57, 'city': 96, 'national': 341, 'florida': 194, 'internet': 260, 'xcel': 574, 'energy': 159, 'caltrain': 66, 'brookshire': 59, 'york': 576, 'mellon': 314, 'education': 148, 'finance': 184, 'price': 398, 'chopper': 87, 'homebridge': 243, 'dte': 138, 'keycorp': 272, 'arkanas': 24, 'navient': 344, 'first': 189, 'horizon': 245, 'sallie': 443, 'mae': 294, 'ohio': 361, 'arvest': 25, 'chicago': 86, 'csaa': 125, 'great': 217, 'lake': 277, 'educational': 149, 'lakeview': 278, 'noridian': 356, 'co': 101, 'rtc': 437, 'transist': 522, 'old': 363, 'silicon': 465, 'valley': 548, 'muni': 338, 'chevron': 85, 'firstbank': 190, 'hold': 240, 'ecsi': 145, 'online': 366, 'course': 120, 'fnb': 196, 'tcf': 507, 'conocophillips': 110, 'dominion': 136, 'southern': 475, 'company': 109, 'hanover': 226, 'georgia': 211, 'power': 395, 'nationwide': 342, 'duke': 140, 'carolina': 76, 'phillips': 385, 'sam': 444, 'republic': 427, 'firstenergy': 191, 'centerstate': 81, 'cit': 92, 'mapfre': 297, 'north': 357, 'cherry': 84, 'creek': 122, 'mortage': 331, 'pavilion': 377, 'chubb': 88, 'ina': 253, 'cincinnati': 91, 'primary': 399, 'residential': 428, 'allianz': 10, 'albertsons': 7, 'td': 508, 'homegoods': 244, 'emc': 156, 'charles': 82, 'schwab': 450, 'quicken': 412, 'star': 481, 'market': 302, 'consolidated': 111, 'edison': 147, 'oneok': 365, 'discover': 135, 'bbva': 47, 'usa': 543, 'anthem': 22, 'financing': 186, 'inc': 254, 'synovus': 504, 'academy': 1, 'suntrust': 498, 'bnp': 55, 'paribas': 372, 'provident': 405, 'funding': 206, 'associate': 28, 'federate': 180, 'train': 521, 'prosperity': 403, 'bancshares': 38, 'caresource': 75, 'harp': 227, 'store': 488, 'sempra': 452, 'country': 118, 'pc': 379, 'cornerstone': 114, 'home': 242, 'lending': 282, 'wellmark': 563, 'mufg': 336, 'cigna': 90, 'granite': 216, 'bleu': 52, 'capital': 67, 'one': 364, 'exxonmobil': 170, 'nelnet': 349, 'wegmans': 560, 'subway': 491, 'denver': 130, 'rtd': 438, 'raley': 416, 'tennessee': 510, 'fire': 188, 'bok': 56, 'macy': 293, 'cable': 62, 'septa': 454, 'regional': 422, 'midfirst': 322, 'long': 290, 'island': 263, 'people': 382, 'united': 539, 'exelon': 167, 'college': 102, 'ave': 33, 'mastercard': 306, 'santander': 445, 'osla': 368, 'alabama': 6, 'emblem': 155, 'nebraska': 347, 'providence': 404, 'amtrust': 20, 'molina': 327, 'care': 73, 'john': 266, 'deere': 128, 'kemper': 270, 'rta': 436, 'rapid': 418, 'transit': 523, 'uta': 545, 'frontrunner': 202, 'jersey': 265, 'ameren': 13, 'ameriprise': 16, 'barrington': 43, 'ira': 262, 'grocery': 219, 'shopping': 461, 'ameris': 17, 'bancorp': 37, 'metrolink': 318, 'soopers': 472, 'le': 280, 'main': 295, 'street': 489, 'sofi': 470, 'wei': 561, 'hawaiian': 234, 'morgan': 330, 'stanley': 480, 'light': 286, 'mechanic': 309, 'centene': 80, 'corp': 115, 'popular': 393, 'markel': 301, 'unitedhealth': 540, 'community': 107, 'baltimore': 36, 'subwaylink': 492, 'flagstar': 192, 'regions': 423, 'trinity': 527, 'railway': 414, 'brother': 60, 'suisse': 494, 'eversource': 166, 'cna': 100, 'kaiser': 268, 'foundation': 198, 'uber': 533, 'fair': 171, 'qfc': 411, 'electricity': 154, 'broker': 58, 'solution': 471, 'barclay': 41, 'nj': 354, 'deutsche': 132, 'sterling': 485, 'megabus': 312, 'pacwest': 370, 'montana': 328, 'cooperative': 113, 'citizen': 95, 'electic': 152, 'giant': 212, 'eagle': 141, 'keystone': 273, 'ebart': 144, 'international': 259, 'eog': 161, 'resource': 429, 'dhi': 133, 'commerce': 105, 'marathon': 298, 'petroleum': 384, 'selective': 451, 'smart': 468, 'final': 183, 'kansa': 269, 'rite': 433, 'california': 65, 'carrs': 78, 'alleghany': 8, 'in': 252, 'navy': 345, 'federal': 179, 'flood': 193, 'metrorail': 319, 'tom': 519, 'thumb': 514, 'amerisave': 18, 'consumer': 112, 'save': 446, 'mart': 303, 'wec': 559, 'earnest': 142, 'pseg': 406, 'stearns': 484, 'lend': 281, 'hsbc': 246, 'valero': 547, 'lucky': 292, 'visa': 553, 'oil': 362, 'pinnacle': 388, 'partner': 373, 'premera': 397, 'supermarket': 499, 'kinder': 274, 'region': 421, 'highmark': 238, 'progressive': 401, 'huntington': 248, 'citibank': 93, 'life': 285, 'summit': 496, 'nextera': 352, 'pnc': 392, 'student': 490, 'lendkey': 283, 'berkshire': 49, 'hathaway': 231, 'investor': 261, 'hawaii': 233, 'ascent': 26, 'employee': 158, 'property': 402, 'tax': 506, 'freedom': 200, 'nictd': 353, 'shore': 463, 'line': 287, 'wentworth': 564, 'midwest': 323, 'swiss': 501, 'reinsurance': 424, 'hawaai': 232, 'rent': 425, 'martametro': 304, 'zurich': 577, 'fincial': 187, 'synchrony': 502, 'cardinal': 72, 'newrez': 351, 'michigan': 321, 'trimet': 526, 'pacific': 369, 'electric': 153, 'well': 562, 'fargo': 176, 'toll': 518, 'randalls': 417, 'gateway': 209, 'dentist': 129, 'visit': 554, 'bay': 46, 'equiety': 162, 'hesc': 237, 'synergy': 503, 'bus': 61, 'sierra': 464, 'primelending': 400, 'umb': 535, 'commonbond': 106, 'pcp': 380, 'simmons': 466, 'truist': 528, 'westfield': 567, 'car': 70, 'ppl': 396, 'njm': 355, 'pulte': 409, 'metlife': 316, 'patco': 375, 'speedline': 477, 'fm': 195, 'global': 213, 'williams': 570, 'lion': 288, 'lacmta': 276, 'cibc': 89, 'frost': 203, 'greyhound': 218, 'harris': 228, 'teeter': 509, 'pennymac': 381, 'amtrak': 19, 'occidental': 360, 'washington': 556, 'fareway': 175, 'marc': 299, 'laurel': 279, 'road': 434, 'schnucks': 448, 'guidewell': 222, 'path': 376, 'shoprite': 462, 'sunrail': 497, 'meijer': 313, 'cmg': 99, 'veteran': 551, 'unite': 538, 'humana': 247, 'basket': 45, 'pioneer': 389, 'natural': 343, 'independence': 255, 'mizuho': 325, 'tuft': 530, 'plane': 391, 'wmata': 573, 'smith': 469, 'drug': 137, 'hoa': 239, 'due': 139, 'paramount': 371, 'entergy': 160, 'andronico': 21, 'piggle': 387, 'wiggly': 569, 'arch': 23, 'east': 143, 'nvr': 359, 'guarantee': 221, 'rate': 419, 'carefirst': 74, 'cathay': 79, 'winco': 571, 'caliber': 64, 'maximus': 307, 'berkley': 48, 'splash': 478, 'maine': 296, 'comm': 104, 'option': 367, 'unitedhealthcare': 541, 'stifel': 486, 'risla': 432, 'morgage': 329, 'fairway': 173, 'independent': 256, 'crosscountry': 124, 'top': 520, 'target': 505, 'healthpartners': 236, 'impac': 251, 'ihs': 250, 'sentry': 453, 'repair': 426, 'ac': 0, 'virginia': 552, 'goldman': 215, 'sachs': 440, 'qbe': 410, 'safeway': 441, 'fred': 199, 'meyer': 320, 'ally': 12, 'wintrust': 572, 'guild': 223, 'acme': 3, 'everett': 165, 'haggen': 224, 'shelter': 458, 'aetna': 4, 'edvestinu': 150, 'jpmorgan': 267, 'chase': 83, 'erie': 163, 'fairfax': 172, 'af': 5, 'neighborhood': 348, 'plan': 390, 'rhode': 431, 'hancock': 225, 'whitney': 568, 'axa': 34, 'bmo': 54, 'staten': 483, 'phone': 386, 'harvey': 230, 'nbkc': 346, 'cadence': 63, 'association': 29, 'bashas': 44, 'spartannash': 476, 'cta': 126, 'rainy': 415, 'day': 127, 'publix': 408, 'ingles': 257, 'family': 174, 'stop': 487, 'shop': 460, 'roundy': 435, 'axis': 35, 'mohela': 326, 'keybank': 271, 'carrington': 77, 'assiramt': 27, 'tokio': 517, 'marine': 300, 'tiaa': 515, 'medica': 310}\n"
     ]
    }
   ],
   "source": [
    "print(Tfidf_vect.vocabulary_)"
   ]
  },
  {
   "cell_type": "code",
   "execution_count": 13,
   "id": "16ecdae6",
   "metadata": {},
   "outputs": [
    {
     "name": "stdout",
     "output_type": "stream",
     "text": [
      "  (0, 447)\t0.40905942610857327\n",
      "  (0, 131)\t0.41531585229370205\n",
      "  (0, 39)\t0.3733063633817597\n",
      "  (0, 25)\t0.7216824009243721\n",
      "  (1, 405)\t0.6065999325434427\n",
      "  (1, 206)\t0.5571819207591012\n",
      "  (1, 28)\t0.5670844990100589\n",
      "  (2, 398)\t0.6731548626357923\n",
      "  (2, 87)\t0.739501542195679\n",
      "  (3, 430)\t0.2969811009772338\n",
      "  (3, 240)\t0.5150150836818213\n",
      "  (3, 190)\t0.5150150836818213\n",
      "  (3, 101)\t0.49294302119493705\n",
      "  (3, 2)\t0.3719251681158068\n",
      "  (4, 524)\t0.5773502691896257\n",
      "  (4, 493)\t0.5773502691896257\n",
      "  (4, 168)\t0.5773502691896257\n",
      "  (6, 430)\t0.4075062903815279\n",
      "  (6, 272)\t0.793975867592026\n",
      "  (6, 205)\t0.45115512296878074\n",
      "  (7, 50)\t0.4351067259461796\n",
      "  (7, 39)\t0.41367424603780706\n",
      "  (7, 25)\t0.799722298802183\n",
      "  (8, 517)\t0.7071067811865476\n",
      "  (8, 300)\t0.7071067811865476\n",
      "  :\t:\n",
      "  (1866, 258)\t0.6830407057014173\n",
      "  (1866, 235)\t0.7303803080278861\n",
      "  (1867, 378)\t0.7203480518876553\n",
      "  (1867, 289)\t0.6936127768010476\n",
      "  (1868, 536)\t0.9026681190422585\n",
      "  (1868, 39)\t0.43033738724948256\n",
      "  (1869, 203)\t0.6789153394231878\n",
      "  (1869, 121)\t0.40589836961233483\n",
      "  (1869, 71)\t0.41685231080447094\n",
      "  (1869, 50)\t0.3245585775858208\n",
      "  (1869, 39)\t0.30857147654050504\n",
      "  (1870, 548)\t0.5963261410268846\n",
      "  (1870, 447)\t0.35765611546990705\n",
      "  (1870, 341)\t0.527335031541971\n",
      "  (1870, 131)\t0.36312634532717836\n",
      "  (1870, 39)\t0.3263958615437941\n",
      "  (1871, 421)\t0.7050273332165168\n",
      "  (1871, 185)\t0.40752641156833147\n",
      "  (1871, 116)\t0.47250575307094345\n",
      "  (1871, 50)\t0.3370415354325133\n",
      "  (1872, 516)\t0.6960132668519984\n",
      "  (1872, 467)\t0.7180289216779565\n",
      "  (1873, 567)\t0.8301376004371392\n",
      "  (1873, 220)\t0.5575585748066908\n",
      "  (1874, 455)\t1.0\n"
     ]
    }
   ],
   "source": [
    "print(X_train_Tfidf)"
   ]
  },
  {
   "cell_type": "code",
   "execution_count": 14,
   "id": "d66e7236",
   "metadata": {},
   "outputs": [
    {
     "data": {
      "text/plain": [
       "SVC(C=1, decision_function_shape='ovo', kernel='linear')"
      ]
     },
     "execution_count": 14,
     "metadata": {},
     "output_type": "execute_result"
    }
   ],
   "source": [
    "linear = svm.SVC(kernel='linear', C=1, decision_function_shape='ovo')\n",
    "linear.fit(X_train_Tfidf, y_train)"
   ]
  },
  {
   "cell_type": "code",
   "execution_count": 15,
   "id": "d2f17ca6",
   "metadata": {},
   "outputs": [],
   "source": [
    "y_pred = linear.predict(X_test_Tfidf)"
   ]
  },
  {
   "cell_type": "code",
   "execution_count": 16,
   "id": "7c10293d",
   "metadata": {},
   "outputs": [
    {
     "name": "stdout",
     "output_type": "stream",
     "text": [
      "Acc:  0.9728\n"
     ]
    }
   ],
   "source": [
    "print(\"Acc: \", accuracy_score(y_test, y_pred))"
   ]
  },
  {
   "cell_type": "code",
   "execution_count": 17,
   "id": "3e3e47fd",
   "metadata": {},
   "outputs": [],
   "source": [
    "#save classifier\n",
    "pickle.dump(linear, open('linear_clf.pkl', 'wb'))"
   ]
  },
  {
   "cell_type": "code",
   "execution_count": null,
   "id": "02ec7d9a",
   "metadata": {},
   "outputs": [],
   "source": []
  }
 ],
 "metadata": {
  "kernelspec": {
   "display_name": "Python 3",
   "language": "python",
   "name": "python3"
  },
  "language_info": {
   "codemirror_mode": {
    "name": "ipython",
    "version": 3
   },
   "file_extension": ".py",
   "mimetype": "text/x-python",
   "name": "python",
   "nbconvert_exporter": "python",
   "pygments_lexer": "ipython3",
   "version": "3.8.8"
  }
 },
 "nbformat": 4,
 "nbformat_minor": 5
}
