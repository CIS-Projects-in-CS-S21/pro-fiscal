{
 "cells": [
  {
   "cell_type": "code",
   "execution_count": 34,
   "id": "e2b23d06",
   "metadata": {},
   "outputs": [],
   "source": [
    "import numpy as np\n",
    "import pandas as pd"
   ]
  },
  {
   "cell_type": "code",
   "execution_count": 35,
   "id": "e52475e7",
   "metadata": {},
   "outputs": [
    {
     "name": "stdout",
     "output_type": "stream",
     "text": [
      "           date     cost                               description  \\\n",
      "0    2014-08-11   184.22                               Ski tickets   \n",
      "1    2011-09-21  4034.86                               Edfinancial   \n",
      "2    2010-05-27   283.24                                  GME YOLO   \n",
      "3    2019-02-21  9012.58                                  Pet food   \n",
      "4    2015-01-09   850.34                                  GME YOLO   \n",
      "..          ...      ...                                       ...   \n",
      "245  2012-01-20  5812.81    Deposit in savings at Bank of the West   \n",
      "246  2018-01-10  3449.14  Blue Cross Bleu Shield of North Carolina   \n",
      "247  2017-07-22  5059.13                               Capital One   \n",
      "248  2010-05-01  1023.06                                ExxonMobil   \n",
      "249  2015-10-17   233.35                                  Vacation   \n",
      "\n",
      "               category  Non-Essentials  Education  Other  Debt  Savings  \\\n",
      "0        Non-Essentials               0          0      0     0        0   \n",
      "1             Education               0          0      0     0        0   \n",
      "2                 Other               0          0      3     0        0   \n",
      "3             Education               0          0      0     0        0   \n",
      "4                 Other               0          0      3     0        0   \n",
      "..                  ...             ...        ...    ...   ...      ...   \n",
      "245             Savings               0          0      0     1        4   \n",
      "246  Medical/Healthcare               0          0      0     0        0   \n",
      "247           Education               0          0      0     0        0   \n",
      "248           Utilities               0          0      0     0        0   \n",
      "249       Entertainment               0          0      0     0        0   \n",
      "\n",
      "     Transportation  Essentials  Utilities  Housing  Entertainment  \\\n",
      "0                 0           0          0        0              0   \n",
      "1                 0           0          0        0              0   \n",
      "2                 0           0          0        0              0   \n",
      "3                 0           0          0        0              0   \n",
      "4                 0           0          0        0              0   \n",
      "..              ...         ...        ...      ...            ...   \n",
      "245               0           0          0        0              0   \n",
      "246               0           0          0        0              0   \n",
      "247               0           0          0        0              0   \n",
      "248               0           0          0        0              0   \n",
      "249               0           0          0        0              0   \n",
      "\n",
      "     Retirement  Medical/Healthcare  Insurance  Groceries/Household  \n",
      "0             0                   0          0                    0  \n",
      "1             0                   0          0                    0  \n",
      "2             0                   0          0                    0  \n",
      "3             0                   0          0                    0  \n",
      "4             0                   0          0                    0  \n",
      "..          ...                 ...        ...                  ...  \n",
      "245           0                   0          0                    0  \n",
      "246           0                   2          0                    0  \n",
      "247           0                   0          0                    0  \n",
      "248           0                   0          0                    0  \n",
      "249           0                   0          0                    0  \n",
      "\n",
      "[250 rows x 18 columns]\n"
     ]
    }
   ],
   "source": [
    "lex_frame = pd.read_pickle('./processed_data.pkl')\n",
    "\n",
    "print(lex_frame)"
   ]
  },
  {
   "cell_type": "code",
   "execution_count": 36,
   "id": "08e6710c",
   "metadata": {},
   "outputs": [],
   "source": [
    "data = lex_frame['description']\n",
    "target = lex_frame[lex_frame.columns[4:]]"
   ]
  },
  {
   "cell_type": "code",
   "execution_count": 37,
   "id": "bce14f65",
   "metadata": {},
   "outputs": [
    {
     "name": "stdout",
     "output_type": "stream",
     "text": [
      "0                                   Ski tickets\n",
      "1                                   Edfinancial\n",
      "2                                      GME YOLO\n",
      "3                                      Pet food\n",
      "4                                      GME YOLO\n",
      "                         ...                   \n",
      "245      Deposit in savings at Bank of the West\n",
      "246    Blue Cross Bleu Shield of North Carolina\n",
      "247                                 Capital One\n",
      "248                                  ExxonMobil\n",
      "249                                    Vacation\n",
      "Name: description, Length: 250, dtype: object\n",
      "     Non-Essentials  Education  Other  Debt  Savings  Transportation  \\\n",
      "0                 0          0      0     0        0               0   \n",
      "1                 0          0      0     0        0               0   \n",
      "2                 0          0      3     0        0               0   \n",
      "3                 0          0      0     0        0               0   \n",
      "4                 0          0      3     0        0               0   \n",
      "..              ...        ...    ...   ...      ...             ...   \n",
      "245               0          0      0     1        4               0   \n",
      "246               0          0      0     0        0               0   \n",
      "247               0          0      0     0        0               0   \n",
      "248               0          0      0     0        0               0   \n",
      "249               0          0      0     0        0               0   \n",
      "\n",
      "     Essentials  Utilities  Housing  Entertainment  Retirement  \\\n",
      "0             0          0        0              0           0   \n",
      "1             0          0        0              0           0   \n",
      "2             0          0        0              0           0   \n",
      "3             0          0        0              0           0   \n",
      "4             0          0        0              0           0   \n",
      "..          ...        ...      ...            ...         ...   \n",
      "245           0          0        0              0           0   \n",
      "246           0          0        0              0           0   \n",
      "247           0          0        0              0           0   \n",
      "248           0          0        0              0           0   \n",
      "249           0          0        0              0           0   \n",
      "\n",
      "     Medical/Healthcare  Insurance  Groceries/Household  \n",
      "0                     0          0                    0  \n",
      "1                     0          0                    0  \n",
      "2                     0          0                    0  \n",
      "3                     0          0                    0  \n",
      "4                     0          0                    0  \n",
      "..                  ...        ...                  ...  \n",
      "245                   0          0                    0  \n",
      "246                   2          0                    0  \n",
      "247                   0          0                    0  \n",
      "248                   0          0                    0  \n",
      "249                   0          0                    0  \n",
      "\n",
      "[250 rows x 14 columns]\n"
     ]
    }
   ],
   "source": [
    "print(data)\n",
    "print(target)"
   ]
  },
  {
   "cell_type": "code",
   "execution_count": 38,
   "id": "0bdebe98",
   "metadata": {},
   "outputs": [],
   "source": [
    "#from sklearn import svm\n",
    "\n",
    "#clf = svm.SVC(kernel='linear', C=1, decision_function_shape='ovo')\n"
   ]
  },
  {
   "cell_type": "code",
   "execution_count": 39,
   "id": "cd337db1",
   "metadata": {},
   "outputs": [],
   "source": [
    "from nltk.tokenize import word_tokenize\n",
    "from nltk import pos_tag\n",
    "from nltk.corpus import stopwords\n",
    "from nltk.stem import WordNetLemmatizer\n",
    "from sklearn.preprocessing import LabelEncoder\n",
    "from collections import defaultdict\n",
    "from nltk.corpus import wordnet as wn\n",
    "from sklearn.feature_extraction.text import TfidfVectorizer\n",
    "from sklearn import model_selection, naive_bayes, svm\n",
    "from sklearn.metrics import accuracy_score"
   ]
  },
  {
   "cell_type": "code",
   "execution_count": 40,
   "id": "4c0114a3",
   "metadata": {},
   "outputs": [
    {
     "name": "stdout",
     "output_type": "stream",
     "text": [
      "[\"['ski', 'ticket']\", \"['edfinancial']\", \"['gme', 'yolo']\", \"['pet', 'food']\", \"['gme', 'yolo']\", \"['credit', 'card', 'bill', 'umpqua', 'holding', 'corporation']\", \"['saving', 'deposit', 'comerica']\", \"['mta']\", \"['emergency']\", \"['emergency']\", \"['capitol', 'corridor']\", \"['public', 'service', 'elec', 'gas']\", \"['ubs', 'bank']\", \"['saving', 'deposit', 'bankunited']\", \"['water']\", \"['vacation']\", \"['tuition']\", \"['deposit', 'saving', 'american', 'express']\", \"['museum']\", \"['school', 'supply']\", \"['deposit', 'saving', 'ubs']\", \"['sudden', 'travel', 'expense']\", \"['credit', 'card', 'bill', 'iberiabank']\", \"['movie']\", \"['mta', 'maryland']\", \"['retirement', 'account', 'sumitomo', 'mitsui', 'financial', 'group']\", \"['textbook']\", \"['bill', 'fulton', 'financial', 'corporation']\", \"['emergency']\", \"['blue', 'cross', 'blue', 'shield', 'vermont']\", \"['new', 'tv']\", \"['retirement', 'fund', 'rbc', 'bank']\", \"['louisiana', 'medical', 'service']\", \"['gme', 'yolo']\", \"['new', 'tv']\", \"['farmer', 'insurance']\", \"['vet', 'bill']\", \"['sudden', 'travel', 'expense']\", \"['emergency']\", \"['septum']\", \"['tren', 'urbano']\", \"['mulberry', 'health']\", \"['auto', 'club', 'group']\", \"['emergency']\", \"['cleaning', 'supply']\", \"['gme', 'yolo']\", \"['financial', 'service']\", \"['loan', 'payment']\", \"['bill', 'northern', 'trust']\", \"['credit', 'card', 'bill', 'bank', 'west']\", \"['gme', 'yolo']\", \"['vons']\", \"['fedloan', 'servicing']\", \"['black', 'friday', 'sale']\", \"['saving', 'deposit', 'western', 'alliance', 'bank']\", \"['liberty', 'mutual']\", \"['mercury', 'general']\", \"['vet', 'bill']\", \"['retirement', 'fund', 'citigroup']\", \"['movie']\", \"['gme', 'yolo']\", \"['mbta', 'commuter', 'rail']\", \"['movement', 'mortgage']\", \"['loan', 'payment', 'western', 'alliance', 'bank']\", \"['partnerre', 'u']\", \"['bill', 'fifth', 'third', 'bank']\", \"['deposit', 'saving', 'rymond', 'james', 'financial']\", \"['sounder', 'commuter', 'rail']\", \"['retirement', 'account', 'south', 'state', 'bank']\", \"['state', 'farm']\", \"['museum']\", \"['gme', 'yolo']\", \"['allstate']\", \"['port', 'authority']\", \"['school', 'supply']\", \"['retirement', 'account', 'webster', 'bank']\", \"['retirement', 'fund', 'atlantic', 'union', 'bank']\", \"['gme', 'yolo']\", \"['ski', 'ticket']\", \"['loan', 'payment', 'bank', 'america']\", \"['king', 'county', 'metro']\", \"['din']\", \"['hartford', 'insurance']\", \"['usaa']\", \"['sport', 'game']\", \"['black', 'friday', 'sale']\", \"['everest']\", \"['deposit', 'saving', 'texas', 'captial', 'bank']\", \"['retirement', 'fund', 'barclays']\", \"['american', 'express']\", \"['book']\", \"['deposit', 'saving', 'city', 'national', 'bank', 'florida']\", \"['metro']\", \"['emergency']\", \"['internet', 'bill']\", \"['xcel', 'energy']\", \"['caltrain']\", \"['brookshire']\", \"['saving', 'deposit', 'bank', 'new', 'york', 'mellon']\", \"['umpqua', 'bank']\", \"['movie']\", \"['education', 'loan', 'finance']\", \"['sudden', 'travel', 'expense']\", \"['ubs', 'bank']\", \"['vet', 'bill']\", \"['blue', 'cross', 'blue', 'shield', 'vermont']\", \"['book']\", \"['price', 'chopper']\", \"['partnerre', 'u']\", \"['homebridge', 'financial', 'service']\", \"['dte', 'energy']\", \"['deposit', 'saving', 'keycorp']\", \"['bank', 'america']\", \"['arkanas', 'blue', 'cross', 'blue', 'shield']\", \"['navient']\", '[]', \"['deposit', 'saving', 'first', 'horizon', 'national', 'corporation']\", \"['sallie', 'mae']\", \"['medical', 'mutual', 'ohio']\", \"['sudden', 'travel', 'expense']\", \"['gme', 'yolo']\", \"['bill', 'arvest', 'bank']\", \"['chicago', 'l']\", \"['movie']\", \"['csaa', 'insurance']\", \"['great', 'lake', 'educational', 'loan', 'service']\", \"['book']\", \"['lakeview', 'loan', 'servicing']\", \"['retirement', 'fund', 'iberiabank']\", \"['emergency']\", \"['noridian', 'mutual', 'insurance', 'co']\", \"['museum']\", \"['rtc', 'transist']\", \"['deposit', 'saving', 'old', 'national', 'bank']\", \"['credit', 'card', 'bill', 'silicon', 'valley', 'bank']\", \"['muni']\", \"['din']\", \"['chevron']\", \"['bill', 'firstbank', 'hold', 'co']\", \"['vacation']\", \"['ecsi']\", \"['new', 'tv']\", \"['sport', 'game']\", \"['online', 'course']\", \"['deposit', 'saving', 'fnb', 'corporation']\", \"['vacation']\", \"['deposit', 'saving', 'tcf', 'financial']\", \"['sudden', 'travel', 'expense']\", \"['new', 'tv']\", \"['conocophillips']\", \"['vacation']\", \"['dominion', 'energy']\", \"['bill', 'rymond', 'james', 'financial']\", \"['bank']\", \"['din']\", \"['southern', 'company']\", \"['hanover', 'insurance', 'group']\", \"['sudden', 'travel', 'expense']\", \"['gme', 'yolo']\", \"['georgia', 'power']\", \"['ski', 'ticket']\", \"['nationwide']\", \"['duke', 'energy', 'carolina']\", \"['gme', 'yolo']\", \"['vet', 'bill']\", \"['public', 'service', 'elec', 'gas']\", '[]', \"['phillips']\", \"['rtc', 'transist']\", \"['sam', 'club']\", \"['mercury', 'general']\", \"['old', 'republic']\", \"['pet', 'food']\", \"['firstenergy']\", \"['saving', 'deposit', 'western', 'alliance', 'bank']\", \"['loan', 'payment', 'centerstate', 'bank']\", \"['museum']\", \"['credit', 'card', 'bill']\", \"['state', 'farm']\", \"['credit', 'card', 'bill', 'cit', 'group']\", \"['din']\", \"['mapfre', 'north', 'america']\", \"['cherry', 'creek', 'mortage']\", \"['pavilion']\", \"['chubb', 'ina']\", \"['mbta', 'commuter', 'rail']\", \"['cincinnati']\", \"['primary', 'residential', 'mortgage']\", \"['allianz', 'america']\", \"['sudden', 'travel', 'expense']\", \"['blue', 'cross', 'blue', 'shield', 'south', 'carolina']\", \"['albertsons']\", \"['black', 'friday', 'sale']\", \"['saving', 'deposit', 'td', 'bank']\", \"['homegoods']\", \"['new', 'tv']\", \"['emc', 'insurance']\", \"['gme', 'yolo']\", \"['retirement', 'fund', 'charles', 'schwab', 'corporation']\", \"['quicken', 'loan']\", \"['usaa']\", \"['star', 'market']\", \"['sport', 'game']\", \"['movie']\", \"['new', 'tv']\", \"['consolidated', 'edison']\", \"['oneok']\", \"['discover']\", \"['emergency']\", \"['new', 'tv']\", \"['retirement', 'fund', 'bbva', 'usa']\", \"['anthem']\", \"['american', 'financing', 'corporation']\", \"['emergency']\", \"['anthem', 'inc']\", \"['sudden', 'travel', 'expense']\", \"['credit', 'card', 'bill', 'firstbank', 'hold', 'co']\", \"['saving', 'deposit', 'synovus']\", \"['academy', 'mortgage']\", \"['suntrust', 'bank']\", \"['retirement', 'account', 'bnp', 'paribas']\", \"['provident', 'funding', 'associate']\", \"['federate', 'mutual']\", \"['southern', 'company']\", \"['train', 'ticket']\", '[]', \"['retirement', 'account', 'prosperity', 'bancshares']\", \"['caresource']\", \"['retirement', 'account', 'firstbank', 'hold', 'co']\", \"['anthem']\", \"['harp', 'food', 'store']\", \"['sempra', 'energy']\", \"['country', 'financial', 'pc']\", \"['cornerstone', 'home', 'lending']\", \"['wellmark']\", \"['retirement', 'account', 'mufg', 'union', 'bank']\", \"['dte', 'energy']\", \"['cigna']\", \"['bill', 'bankunited']\", \"['book']\", \"['loan', 'payment', 'bank']\", \"['chicago', 'l']\", \"['sudden', 'travel', 'expense']\", \"['retirement', 'fund', 'state', 'farm']\", \"['granite', 'state']\", \"['deposit', 'saving', 'bank', 'west']\", \"['blue', 'cross', 'bleu', 'shield', 'north', 'carolina']\", \"['capital', 'one']\", \"['exxonmobil']\", \"['vacation']\"]\n"
     ]
    }
   ],
   "source": [
    "#change all text to lower case\n",
    "data = [entry.lower() for entry in data]\n",
    "\n",
    "#tokenize\n",
    "data = [word_tokenize(entry) for entry in data]\n",
    "\n",
    "tag_map = defaultdict(lambda : wn.NOUN)\n",
    "tag_map['J'] = wn.ADJ\n",
    "tag_map['V'] = wn.VERB\n",
    "tag_map['R'] = wn.ADV\n",
    "\n",
    "data_final = []\n",
    "\n",
    "for index,entry in enumerate(data):\n",
    "    Final_words = []\n",
    "    # Initializing WordNetLemmatizer()\n",
    "    word_Lemmatized = WordNetLemmatizer()\n",
    "    # pos_tag function below will provide the 'tag' i.e if the word is Noun(N) or Verb(V) or something else.\n",
    "    for word, tag in pos_tag(entry):\n",
    "        # Below condition is to check for Stop words and consider only alphabets\n",
    "        if word not in stopwords.words('english') and word.isalpha():\n",
    "            word_Final = word_Lemmatized.lemmatize(word,tag_map[tag[0]])\n",
    "            Final_words.append(word_Final)\n",
    "    # The final processed set of words for each iteration will be stored in 'text_final'\n",
    "    data[index] = str(Final_words)\n",
    "print(data)"
   ]
  },
  {
   "cell_type": "code",
   "execution_count": 41,
   "id": "686891a6",
   "metadata": {},
   "outputs": [],
   "source": [
    "X_train, X_test, y_train, y_test = model_selection.train_test_split(data, target, test_size=0.25)"
   ]
  },
  {
   "cell_type": "code",
   "execution_count": 42,
   "id": "6c4ad3ad",
   "metadata": {},
   "outputs": [],
   "source": [
    "Tfidf_vect = TfidfVectorizer(max_features=50000)\n",
    "Tfidf_vect.fit(data)\n",
    "\n",
    "X_train_Tfidf = Tfidf_vect.transform(X_train)\n",
    "X_test_Tfidf = Tfidf_vect.transform(X_test)"
   ]
  },
  {
   "cell_type": "code",
   "execution_count": 43,
   "id": "34d03625",
   "metadata": {},
   "outputs": [
    {
     "name": "stdout",
     "output_type": "stream",
     "text": [
      "{'ski': 199, 'ticket': 217, 'edfinancial': 71, 'gme': 105, 'yolo': 242, 'pet': 170, 'food': 96, 'credit': 60, 'card': 31, 'bill': 20, 'umpqua': 226, 'holding': 114, 'corporation': 55, 'saving': 190, 'deposit': 64, 'comerica': 49, 'mta': 147, 'emergency': 77, 'capitol': 29, 'corridor': 56, 'public': 178, 'service': 195, 'elec': 75, 'gas': 102, 'ubs': 225, 'bank': 16, 'bankunited': 17, 'water': 236, 'vacation': 231, 'tuition': 223, 'american': 7, 'express': 81, 'museum': 151, 'school': 191, 'supply': 210, 'sudden': 207, 'travel': 220, 'expense': 80, 'iberiabank': 119, 'movie': 146, 'maryland': 136, 'retirement': 184, 'account': 1, 'sumitomo': 208, 'mitsui': 142, 'financial': 89, 'group': 108, 'textbook': 215, 'fulton': 98, 'blue': 23, 'cross': 62, 'shield': 197, 'vermont': 233, 'new': 156, 'tv': 224, 'fund': 99, 'rbc': 181, 'louisiana': 132, 'medical': 138, 'farmer': 84, 'insurance': 122, 'vet': 234, 'septum': 194, 'tren': 221, 'urbano': 228, 'mulberry': 149, 'health': 112, 'auto': 14, 'club': 47, 'cleaning': 46, 'loan': 131, 'payment': 168, 'northern': 159, 'trust': 222, 'west': 239, 'vons': 235, 'fedloan': 86, 'servicing': 196, 'black': 21, 'friday': 97, 'sale': 187, 'western': 240, 'alliance': 3, 'liberty': 130, 'mutual': 152, 'mercury': 140, 'general': 103, 'citigroup': 44, 'mbta': 137, 'commuter': 50, 'rail': 180, 'movement': 145, 'mortgage': 144, 'partnerre': 166, 'fifth': 87, 'third': 216, 'rymond': 186, 'james': 124, 'sounder': 200, 'south': 201, 'state': 205, 'farm': 83, 'allstate': 5, 'port': 172, 'authority': 13, 'webster': 237, 'atlantic': 12, 'union': 227, 'america': 6, 'king': 126, 'county': 58, 'metro': 141, 'din': 65, 'hartford': 111, 'usaa': 230, 'sport': 203, 'game': 101, 'everest': 79, 'texas': 214, 'captial': 30, 'barclays': 18, 'book': 25, 'city': 45, 'national': 153, 'florida': 94, 'internet': 123, 'xcel': 241, 'energy': 78, 'caltrain': 27, 'brookshire': 26, 'york': 243, 'mellon': 139, 'education': 73, 'finance': 88, 'price': 174, 'chopper': 39, 'homebridge': 116, 'dte': 68, 'keycorp': 125, 'arkanas': 9, 'navient': 155, 'first': 91, 'horizon': 118, 'sallie': 188, 'mae': 133, 'ohio': 160, 'arvest': 10, 'chicago': 38, 'csaa': 63, 'great': 107, 'lake': 127, 'educational': 74, 'lakeview': 128, 'noridian': 157, 'co': 48, 'rtc': 185, 'transist': 219, 'old': 161, 'silicon': 198, 'valley': 232, 'muni': 150, 'chevron': 37, 'firstbank': 92, 'hold': 113, 'ecsi': 70, 'online': 164, 'course': 59, 'fnb': 95, 'tcf': 212, 'conocophillips': 52, 'dominion': 67, 'southern': 202, 'company': 51, 'hanover': 109, 'georgia': 104, 'power': 173, 'nationwide': 154, 'duke': 69, 'carolina': 33, 'phillips': 171, 'sam': 189, 'republic': 182, 'firstenergy': 93, 'centerstate': 34, 'cit': 43, 'mapfre': 134, 'north': 158, 'cherry': 36, 'creek': 61, 'mortage': 143, 'pavilion': 167, 'chubb': 40, 'ina': 120, 'cincinnati': 42, 'primary': 175, 'residential': 183, 'allianz': 4, 'albertsons': 2, 'td': 213, 'homegoods': 117, 'emc': 76, 'charles': 35, 'schwab': 192, 'quicken': 179, 'star': 204, 'market': 135, 'consolidated': 53, 'edison': 72, 'oneok': 163, 'discover': 66, 'bbva': 19, 'usa': 229, 'anthem': 8, 'financing': 90, 'inc': 121, 'synovus': 211, 'academy': 0, 'suntrust': 209, 'bnp': 24, 'paribas': 165, 'provident': 177, 'funding': 100, 'associate': 11, 'federate': 85, 'train': 218, 'prosperity': 176, 'bancshares': 15, 'caresource': 32, 'harp': 110, 'store': 206, 'sempra': 193, 'country': 57, 'pc': 169, 'cornerstone': 54, 'home': 115, 'lending': 129, 'wellmark': 238, 'mufg': 148, 'cigna': 41, 'granite': 106, 'bleu': 22, 'capital': 28, 'one': 162, 'exxonmobil': 82}\n"
     ]
    }
   ],
   "source": [
    "print(Tfidf_vect.vocabulary_)"
   ]
  },
  {
   "cell_type": "code",
   "execution_count": 44,
   "id": "5c79e2d0",
   "metadata": {},
   "outputs": [
    {
     "name": "stdout",
     "output_type": "stream",
     "text": [
      "  (0, 234)\t0.812302285643018\n",
      "  (0, 20)\t0.5832366558603195\n",
      "  (1, 215)\t1.0\n",
      "  (2, 195)\t0.4379901499771149\n",
      "  (2, 178)\t0.5190262127365772\n",
      "  (2, 102)\t0.5190262127365772\n",
      "  (2, 75)\t0.5190262127365772\n",
      "  (3, 195)\t0.4379901499771149\n",
      "  (3, 178)\t0.5190262127365772\n",
      "  (3, 102)\t0.5190262127365772\n",
      "  (3, 75)\t0.5190262127365772\n",
      "  (4, 235)\t1.0\n",
      "  (5, 225)\t0.7122740811739956\n",
      "  (5, 190)\t0.4963192688621611\n",
      "  (5, 64)\t0.4963192688621611\n",
      "  (6, 205)\t0.4833665272199369\n",
      "  (6, 201)\t0.5541451164230027\n",
      "  (6, 184)\t0.38321216935154606\n",
      "  (6, 16)\t0.3260687269821576\n",
      "  (6, 1)\t0.4539907585546119\n",
      "  (7, 242)\t0.7071067811865476\n",
      "  (7, 105)\t0.7071067811865476\n",
      "  (8, 121)\t0.7502840196935285\n",
      "  (8, 8)\t0.6611156402570741\n",
      "  (9, 180)\t0.5665844726506293\n",
      "  :\t:\n",
      "  (177, 184)\t0.3619344076224048\n",
      "  (177, 148)\t0.5624802838056384\n",
      "  (177, 16)\t0.30796384087744194\n",
      "  (177, 1)\t0.42878303301681603\n",
      "  (178, 220)\t0.5773502691896258\n",
      "  (178, 207)\t0.5773502691896258\n",
      "  (178, 80)\t0.5773502691896258\n",
      "  (179, 166)\t1.0\n",
      "  (180, 168)\t0.6665369151342517\n",
      "  (180, 131)\t0.594609119724331\n",
      "  (180, 16)\t0.4496315552805114\n",
      "  (181, 240)\t0.5457745942083422\n",
      "  (181, 190)\t0.38030086271643565\n",
      "  (181, 64)\t0.38030086271643565\n",
      "  (181, 16)\t0.3391204686652053\n",
      "  (181, 3)\t0.5457745942083422\n",
      "  (182, 8)\t1.0\n",
      "  (183, 210)\t0.6875994593573493\n",
      "  (183, 191)\t0.726090203412414\n",
      "  (184, 224)\t0.7165342369245601\n",
      "  (184, 156)\t0.6975519244579134\n",
      "  (185, 27)\t1.0\n",
      "  (186, 158)\t0.5797112904251026\n",
      "  (186, 134)\t0.6230242815710015\n",
      "  (186, 6)\t0.5251433750192415\n"
     ]
    }
   ],
   "source": [
    "print(X_train_Tfidf)"
   ]
  },
  {
   "cell_type": "code",
   "execution_count": 45,
   "id": "54fe66ca",
   "metadata": {},
   "outputs": [
    {
     "ename": "ValueError",
     "evalue": "y should be a 1d array, got an array of shape (187, 14) instead.",
     "output_type": "error",
     "traceback": [
      "\u001b[1;31m---------------------------------------------------------------------------\u001b[0m",
      "\u001b[1;31mValueError\u001b[0m                                Traceback (most recent call last)",
      "\u001b[1;32m<ipython-input-45-d0a9a2fda31a>\u001b[0m in \u001b[0;36m<module>\u001b[1;34m\u001b[0m\n\u001b[0;32m      1\u001b[0m \u001b[0mlinear\u001b[0m \u001b[1;33m=\u001b[0m \u001b[0msvm\u001b[0m\u001b[1;33m.\u001b[0m\u001b[0mSVC\u001b[0m\u001b[1;33m(\u001b[0m\u001b[0mkernel\u001b[0m\u001b[1;33m=\u001b[0m\u001b[1;34m'linear'\u001b[0m\u001b[1;33m,\u001b[0m \u001b[0mC\u001b[0m\u001b[1;33m=\u001b[0m\u001b[1;36m1\u001b[0m\u001b[1;33m,\u001b[0m \u001b[0mdecision_function_shape\u001b[0m\u001b[1;33m=\u001b[0m\u001b[1;34m'ovo'\u001b[0m\u001b[1;33m)\u001b[0m\u001b[1;33m\u001b[0m\u001b[1;33m\u001b[0m\u001b[0m\n\u001b[1;32m----> 2\u001b[1;33m \u001b[0mlinear\u001b[0m\u001b[1;33m.\u001b[0m\u001b[0mfit\u001b[0m\u001b[1;33m(\u001b[0m\u001b[0mX_train_Tfidf\u001b[0m\u001b[1;33m,\u001b[0m \u001b[0my_train\u001b[0m\u001b[1;33m)\u001b[0m\u001b[1;33m\u001b[0m\u001b[1;33m\u001b[0m\u001b[0m\n\u001b[0m",
      "\u001b[1;32m~\\anaconda3\\lib\\site-packages\\sklearn\\svm\\_base.py\u001b[0m in \u001b[0;36mfit\u001b[1;34m(self, X, y, sample_weight)\u001b[0m\n\u001b[0;32m    167\u001b[0m             \u001b[0mcheck_consistent_length\u001b[0m\u001b[1;33m(\u001b[0m\u001b[0mX\u001b[0m\u001b[1;33m,\u001b[0m \u001b[0my\u001b[0m\u001b[1;33m)\u001b[0m\u001b[1;33m\u001b[0m\u001b[1;33m\u001b[0m\u001b[0m\n\u001b[0;32m    168\u001b[0m         \u001b[1;32melse\u001b[0m\u001b[1;33m:\u001b[0m\u001b[1;33m\u001b[0m\u001b[1;33m\u001b[0m\u001b[0m\n\u001b[1;32m--> 169\u001b[1;33m             X, y = self._validate_data(X, y, dtype=np.float64,\n\u001b[0m\u001b[0;32m    170\u001b[0m                                        \u001b[0morder\u001b[0m\u001b[1;33m=\u001b[0m\u001b[1;34m'C'\u001b[0m\u001b[1;33m,\u001b[0m \u001b[0maccept_sparse\u001b[0m\u001b[1;33m=\u001b[0m\u001b[1;34m'csr'\u001b[0m\u001b[1;33m,\u001b[0m\u001b[1;33m\u001b[0m\u001b[1;33m\u001b[0m\u001b[0m\n\u001b[0;32m    171\u001b[0m                                        accept_large_sparse=False)\n",
      "\u001b[1;32m~\\anaconda3\\lib\\site-packages\\sklearn\\base.py\u001b[0m in \u001b[0;36m_validate_data\u001b[1;34m(self, X, y, reset, validate_separately, **check_params)\u001b[0m\n\u001b[0;32m    431\u001b[0m                 \u001b[0my\u001b[0m \u001b[1;33m=\u001b[0m \u001b[0mcheck_array\u001b[0m\u001b[1;33m(\u001b[0m\u001b[0my\u001b[0m\u001b[1;33m,\u001b[0m \u001b[1;33m**\u001b[0m\u001b[0mcheck_y_params\u001b[0m\u001b[1;33m)\u001b[0m\u001b[1;33m\u001b[0m\u001b[1;33m\u001b[0m\u001b[0m\n\u001b[0;32m    432\u001b[0m             \u001b[1;32melse\u001b[0m\u001b[1;33m:\u001b[0m\u001b[1;33m\u001b[0m\u001b[1;33m\u001b[0m\u001b[0m\n\u001b[1;32m--> 433\u001b[1;33m                 \u001b[0mX\u001b[0m\u001b[1;33m,\u001b[0m \u001b[0my\u001b[0m \u001b[1;33m=\u001b[0m \u001b[0mcheck_X_y\u001b[0m\u001b[1;33m(\u001b[0m\u001b[0mX\u001b[0m\u001b[1;33m,\u001b[0m \u001b[0my\u001b[0m\u001b[1;33m,\u001b[0m \u001b[1;33m**\u001b[0m\u001b[0mcheck_params\u001b[0m\u001b[1;33m)\u001b[0m\u001b[1;33m\u001b[0m\u001b[1;33m\u001b[0m\u001b[0m\n\u001b[0m\u001b[0;32m    434\u001b[0m             \u001b[0mout\u001b[0m \u001b[1;33m=\u001b[0m \u001b[0mX\u001b[0m\u001b[1;33m,\u001b[0m \u001b[0my\u001b[0m\u001b[1;33m\u001b[0m\u001b[1;33m\u001b[0m\u001b[0m\n\u001b[0;32m    435\u001b[0m \u001b[1;33m\u001b[0m\u001b[0m\n",
      "\u001b[1;32m~\\anaconda3\\lib\\site-packages\\sklearn\\utils\\validation.py\u001b[0m in \u001b[0;36minner_f\u001b[1;34m(*args, **kwargs)\u001b[0m\n\u001b[0;32m     61\u001b[0m             \u001b[0mextra_args\u001b[0m \u001b[1;33m=\u001b[0m \u001b[0mlen\u001b[0m\u001b[1;33m(\u001b[0m\u001b[0margs\u001b[0m\u001b[1;33m)\u001b[0m \u001b[1;33m-\u001b[0m \u001b[0mlen\u001b[0m\u001b[1;33m(\u001b[0m\u001b[0mall_args\u001b[0m\u001b[1;33m)\u001b[0m\u001b[1;33m\u001b[0m\u001b[1;33m\u001b[0m\u001b[0m\n\u001b[0;32m     62\u001b[0m             \u001b[1;32mif\u001b[0m \u001b[0mextra_args\u001b[0m \u001b[1;33m<=\u001b[0m \u001b[1;36m0\u001b[0m\u001b[1;33m:\u001b[0m\u001b[1;33m\u001b[0m\u001b[1;33m\u001b[0m\u001b[0m\n\u001b[1;32m---> 63\u001b[1;33m                 \u001b[1;32mreturn\u001b[0m \u001b[0mf\u001b[0m\u001b[1;33m(\u001b[0m\u001b[1;33m*\u001b[0m\u001b[0margs\u001b[0m\u001b[1;33m,\u001b[0m \u001b[1;33m**\u001b[0m\u001b[0mkwargs\u001b[0m\u001b[1;33m)\u001b[0m\u001b[1;33m\u001b[0m\u001b[1;33m\u001b[0m\u001b[0m\n\u001b[0m\u001b[0;32m     64\u001b[0m \u001b[1;33m\u001b[0m\u001b[0m\n\u001b[0;32m     65\u001b[0m             \u001b[1;31m# extra_args > 0\u001b[0m\u001b[1;33m\u001b[0m\u001b[1;33m\u001b[0m\u001b[1;33m\u001b[0m\u001b[0m\n",
      "\u001b[1;32m~\\anaconda3\\lib\\site-packages\\sklearn\\utils\\validation.py\u001b[0m in \u001b[0;36mcheck_X_y\u001b[1;34m(X, y, accept_sparse, accept_large_sparse, dtype, order, copy, force_all_finite, ensure_2d, allow_nd, multi_output, ensure_min_samples, ensure_min_features, y_numeric, estimator)\u001b[0m\n\u001b[0;32m    824\u001b[0m                         ensure_2d=False, dtype=None)\n\u001b[0;32m    825\u001b[0m     \u001b[1;32melse\u001b[0m\u001b[1;33m:\u001b[0m\u001b[1;33m\u001b[0m\u001b[1;33m\u001b[0m\u001b[0m\n\u001b[1;32m--> 826\u001b[1;33m         \u001b[0my\u001b[0m \u001b[1;33m=\u001b[0m \u001b[0mcolumn_or_1d\u001b[0m\u001b[1;33m(\u001b[0m\u001b[0my\u001b[0m\u001b[1;33m,\u001b[0m \u001b[0mwarn\u001b[0m\u001b[1;33m=\u001b[0m\u001b[1;32mTrue\u001b[0m\u001b[1;33m)\u001b[0m\u001b[1;33m\u001b[0m\u001b[1;33m\u001b[0m\u001b[0m\n\u001b[0m\u001b[0;32m    827\u001b[0m         \u001b[0m_assert_all_finite\u001b[0m\u001b[1;33m(\u001b[0m\u001b[0my\u001b[0m\u001b[1;33m)\u001b[0m\u001b[1;33m\u001b[0m\u001b[1;33m\u001b[0m\u001b[0m\n\u001b[0;32m    828\u001b[0m     \u001b[1;32mif\u001b[0m \u001b[0my_numeric\u001b[0m \u001b[1;32mand\u001b[0m \u001b[0my\u001b[0m\u001b[1;33m.\u001b[0m\u001b[0mdtype\u001b[0m\u001b[1;33m.\u001b[0m\u001b[0mkind\u001b[0m \u001b[1;33m==\u001b[0m \u001b[1;34m'O'\u001b[0m\u001b[1;33m:\u001b[0m\u001b[1;33m\u001b[0m\u001b[1;33m\u001b[0m\u001b[0m\n",
      "\u001b[1;32m~\\anaconda3\\lib\\site-packages\\sklearn\\utils\\validation.py\u001b[0m in \u001b[0;36minner_f\u001b[1;34m(*args, **kwargs)\u001b[0m\n\u001b[0;32m     61\u001b[0m             \u001b[0mextra_args\u001b[0m \u001b[1;33m=\u001b[0m \u001b[0mlen\u001b[0m\u001b[1;33m(\u001b[0m\u001b[0margs\u001b[0m\u001b[1;33m)\u001b[0m \u001b[1;33m-\u001b[0m \u001b[0mlen\u001b[0m\u001b[1;33m(\u001b[0m\u001b[0mall_args\u001b[0m\u001b[1;33m)\u001b[0m\u001b[1;33m\u001b[0m\u001b[1;33m\u001b[0m\u001b[0m\n\u001b[0;32m     62\u001b[0m             \u001b[1;32mif\u001b[0m \u001b[0mextra_args\u001b[0m \u001b[1;33m<=\u001b[0m \u001b[1;36m0\u001b[0m\u001b[1;33m:\u001b[0m\u001b[1;33m\u001b[0m\u001b[1;33m\u001b[0m\u001b[0m\n\u001b[1;32m---> 63\u001b[1;33m                 \u001b[1;32mreturn\u001b[0m \u001b[0mf\u001b[0m\u001b[1;33m(\u001b[0m\u001b[1;33m*\u001b[0m\u001b[0margs\u001b[0m\u001b[1;33m,\u001b[0m \u001b[1;33m**\u001b[0m\u001b[0mkwargs\u001b[0m\u001b[1;33m)\u001b[0m\u001b[1;33m\u001b[0m\u001b[1;33m\u001b[0m\u001b[0m\n\u001b[0m\u001b[0;32m     64\u001b[0m \u001b[1;33m\u001b[0m\u001b[0m\n\u001b[0;32m     65\u001b[0m             \u001b[1;31m# extra_args > 0\u001b[0m\u001b[1;33m\u001b[0m\u001b[1;33m\u001b[0m\u001b[1;33m\u001b[0m\u001b[0m\n",
      "\u001b[1;32m~\\anaconda3\\lib\\site-packages\\sklearn\\utils\\validation.py\u001b[0m in \u001b[0;36mcolumn_or_1d\u001b[1;34m(y, warn)\u001b[0m\n\u001b[0;32m    862\u001b[0m         \u001b[1;32mreturn\u001b[0m \u001b[0mnp\u001b[0m\u001b[1;33m.\u001b[0m\u001b[0mravel\u001b[0m\u001b[1;33m(\u001b[0m\u001b[0my\u001b[0m\u001b[1;33m)\u001b[0m\u001b[1;33m\u001b[0m\u001b[1;33m\u001b[0m\u001b[0m\n\u001b[0;32m    863\u001b[0m \u001b[1;33m\u001b[0m\u001b[0m\n\u001b[1;32m--> 864\u001b[1;33m     raise ValueError(\n\u001b[0m\u001b[0;32m    865\u001b[0m         \u001b[1;34m\"y should be a 1d array, \"\u001b[0m\u001b[1;33m\u001b[0m\u001b[1;33m\u001b[0m\u001b[0m\n\u001b[0;32m    866\u001b[0m         \"got an array of shape {} instead.\".format(shape))\n",
      "\u001b[1;31mValueError\u001b[0m: y should be a 1d array, got an array of shape (187, 14) instead."
     ]
    }
   ],
   "source": [
    "linear = svm.SVC(kernel='linear', C=1, decision_function_shape='ovo')\n",
    "linear.fit(X_train_Tfidf, y_train)"
   ]
  },
  {
   "cell_type": "code",
   "execution_count": null,
   "id": "8e62f16d",
   "metadata": {},
   "outputs": [],
   "source": []
  }
 ],
 "metadata": {
  "kernelspec": {
   "display_name": "Python 3",
   "language": "python",
   "name": "python3"
  },
  "language_info": {
   "codemirror_mode": {
    "name": "ipython",
    "version": 3
   },
   "file_extension": ".py",
   "mimetype": "text/x-python",
   "name": "python",
   "nbconvert_exporter": "python",
   "pygments_lexer": "ipython3",
   "version": "3.8.8"
  }
 },
 "nbformat": 4,
 "nbformat_minor": 5
}
