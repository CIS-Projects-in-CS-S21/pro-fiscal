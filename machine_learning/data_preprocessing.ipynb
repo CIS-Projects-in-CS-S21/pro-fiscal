{
 "cells": [
  {
   "cell_type": "code",
   "execution_count": 1,
   "metadata": {},
   "outputs": [],
   "source": [
    "import numpy as np\n",
    "import pandas as pd\n",
    "# from sklearn.preprocessing import OrdinalEncoder"
   ]
  },
  {
   "cell_type": "code",
   "execution_count": 2,
   "metadata": {
    "pycharm": {
     "is_executing": true,
     "name": "#%%\n"
    }
   },
   "outputs": [],
   "source": [
    "data = pd.read_csv(\"data_test1.csv\", names=[\"date\", \"cost\", \"description\", \"category\"])\n"
   ]
  },
  {
   "cell_type": "code",
   "execution_count": 3,
   "metadata": {},
   "outputs": [
    {
     "name": "stdout",
     "output_type": "stream",
     "text": [
      "           date     cost                               description  \\\n",
      "0    2014-08-11   184.22                               Ski tickets   \n",
      "1    2011-09-21  4034.86                               Edfinancial   \n",
      "2    2010-05-27   283.24                                  GME YOLO   \n",
      "3    2019-02-21  9012.58                                  Pet food   \n",
      "4    2015-01-09   850.34                                  GME YOLO   \n",
      "..          ...      ...                                       ...   \n",
      "245  2012-01-20  5812.81    Deposit in savings at Bank of the West   \n",
      "246  2018-01-10  3449.14  Blue Cross Bleu Shield of North Carolina   \n",
      "247  2017-07-22  5059.13                               Capital One   \n",
      "248  2010-05-01  1023.06                                ExxonMobil   \n",
      "249  2015-10-17   233.35                                  Vacation   \n",
      "\n",
      "               category  \n",
      "0        Non-Essentials  \n",
      "1             Education  \n",
      "2                 Other  \n",
      "3             Education  \n",
      "4                 Other  \n",
      "..                  ...  \n",
      "245             Savings  \n",
      "246  Medical/Healthcare  \n",
      "247           Education  \n",
      "248           Utilities  \n",
      "249       Entertainment  \n",
      "\n",
      "[250 rows x 4 columns]\n"
     ]
    }
   ],
   "source": [
    "print(data)"
   ]
  },
  {
   "cell_type": "code",
   "execution_count": 4,
   "metadata": {},
   "outputs": [],
   "source": [
    "i_to_cat_enc = {cat: i for cat, i in enumerate(data[\"category\"].unique())}\n",
    "cat_to_i_enc = {i: cat for cat, i in enumerate(data[\"category\"].unique())}"
   ]
  },
  {
   "cell_type": "code",
   "execution_count": 5,
   "metadata": {},
   "outputs": [],
   "source": [
    "prepositions = pd.read_csv(\"prepositions.csv\", names=[\"words\"])"
   ]
  },
  {
   "cell_type": "code",
   "execution_count": 6,
   "metadata": {},
   "outputs": [],
   "source": [
    "# Tokenize the descriptions and remove any prepositions\n",
    "tokens = {index: item.split() for index, item in enumerate(data[\"description\"])}\n",
    "processed_tokens = {}\n",
    "for key, value in tokens.items():\n",
    "    no_prepositions = []\n",
    "    for word in value:\n",
    "        word = word.lower()\n",
    "        if word not in prepositions.values:\n",
    "            no_prepositions.append(word)\n",
    "    processed_tokens.update({key: no_prepositions})"
   ]
  },
  {
   "cell_type": "code",
   "execution_count": 7,
   "metadata": {},
   "outputs": [],
   "source": [
    "# count the occurences of each unigram per catgory\n",
    "unigram_value_counts = {cat: {} for cat in data[\"category\"].unique()}\n",
    "for index, tok_list in processed_tokens.items():\n",
    "    cat = data.at[index, 'category']\n",
    "    for word in tok_list:\n",
    "        counts = unigram_value_counts[cat]\n",
    "        counts.update({word: counts.setdefault(word, 0) + 1})"
   ]
  },
  {
   "cell_type": "code",
   "execution_count": 8,
   "metadata": {},
   "outputs": [],
   "source": [
    "# count the occurences of each bigram per catgory\n",
    "bigram_value_counts = {cat: {} for cat in data[\"category\"].unique()}\n",
    "for index, tok_list in processed_tokens.items():\n",
    "    cat = data.at[index, 'category']\n",
    "    for i in range(0, len(tok_list) - 1, 2):\n",
    "        counts = bigram_value_counts[cat]\n",
    "        bigram = (tok_list[i], tok_list[i+1])\n",
    "        counts.update({bigram: counts.setdefault(bigram, 0) + 1})"
   ]
  },
  {
   "cell_type": "code",
   "execution_count": 9,
   "metadata": {},
   "outputs": [],
   "source": [
    "# Create the lexica from unigrams and bigrams over minimum counts\n",
    "unigram_min = 5\n",
    "bigram_min = 3\n",
    "lexica = {cat: set() for cat in data[\"category\"].unique()}\n",
    "for cat, counts in unigram_value_counts.items():\n",
    "    for gram, count in counts.items():\n",
    "        if count > unigram_min:\n",
    "            lexica[cat].add((gram,))\n",
    "for cat, counts in bigram_value_counts.items():\n",
    "    for gram, count in counts.items():\n",
    "        if count > bigram_min:\n",
    "            lexica[cat].add(gram)"
   ]
  },
  {
   "cell_type": "code",
   "execution_count": 25,
   "metadata": {},
   "outputs": [],
   "source": [
    "# Extract feature from lexica\n",
    "lex_feature = np.zeros((len(data), len(cat_to_i_enc)), dtype=np.int8)\n",
    "for i, words in processed_tokens.items():\n",
    "    unigrams = set([(word,) for word in words])\n",
    "    bigrams = set([(words[i], words[i+1]) for i in range(0,len(words) - 1,2)])      \n",
    "    for cat, gram_set in lexica.items():\n",
    "        # count common items by length of intersection        \n",
    "        lex_feature[i][cat_to_i_enc[cat]] += len(gram_set.intersection(unigrams.union(bigrams)))        "
   ]
  },
  {
   "cell_type": "code",
   "execution_count": 27,
   "metadata": {},
   "outputs": [],
   "source": [
    "lex_frame = pd.DataFrame(lex_feature, columns=cat_to_i_enc.keys())\n",
    "output_frame = data.join(lex_frame)"
   ]
  },
  {
   "cell_type": "code",
   "execution_count": 28,
   "metadata": {},
   "outputs": [
    {
     "name": "stdout",
     "output_type": "stream",
     "text": [
      "           date     cost                               description  \\\n",
      "0    2014-08-11   184.22                               Ski tickets   \n",
      "1    2011-09-21  4034.86                               Edfinancial   \n",
      "2    2010-05-27   283.24                                  GME YOLO   \n",
      "3    2019-02-21  9012.58                                  Pet food   \n",
      "4    2015-01-09   850.34                                  GME YOLO   \n",
      "..          ...      ...                                       ...   \n",
      "245  2012-01-20  5812.81    Deposit in savings at Bank of the West   \n",
      "246  2018-01-10  3449.14  Blue Cross Bleu Shield of North Carolina   \n",
      "247  2017-07-22  5059.13                               Capital One   \n",
      "248  2010-05-01  1023.06                                ExxonMobil   \n",
      "249  2015-10-17   233.35                                  Vacation   \n",
      "\n",
      "               category  Non-Essentials  Education  Other  Debt  Savings  \\\n",
      "0        Non-Essentials               0          0      0     0        0   \n",
      "1             Education               0          0      0     0        0   \n",
      "2                 Other               0          0      3     0        0   \n",
      "3             Education               0          0      0     0        0   \n",
      "4                 Other               0          0      3     0        0   \n",
      "..                  ...             ...        ...    ...   ...      ...   \n",
      "245             Savings               0          0      0     1        4   \n",
      "246  Medical/Healthcare               0          0      0     0        0   \n",
      "247           Education               0          0      0     0        0   \n",
      "248           Utilities               0          0      0     0        0   \n",
      "249       Entertainment               0          0      0     0        0   \n",
      "\n",
      "     Transportation  Essentials  Utilities  Housing  Entertainment  \\\n",
      "0                 0           0          0        0              0   \n",
      "1                 0           0          0        0              0   \n",
      "2                 0           0          0        0              0   \n",
      "3                 0           0          0        0              0   \n",
      "4                 0           0          0        0              0   \n",
      "..              ...         ...        ...      ...            ...   \n",
      "245               0           0          0        0              0   \n",
      "246               0           0          0        0              0   \n",
      "247               0           0          0        0              0   \n",
      "248               0           0          0        0              0   \n",
      "249               0           0          0        0              0   \n",
      "\n",
      "     Retirement  Medical/Healthcare  Insurance  Groceries/Household  \n",
      "0             0                   0          0                    0  \n",
      "1             0                   0          0                    0  \n",
      "2             0                   0          0                    0  \n",
      "3             0                   0          0                    0  \n",
      "4             0                   0          0                    0  \n",
      "..          ...                 ...        ...                  ...  \n",
      "245           0                   0          0                    0  \n",
      "246           0                   2          0                    0  \n",
      "247           0                   0          0                    0  \n",
      "248           0                   0          0                    0  \n",
      "249           0                   0          0                    0  \n",
      "\n",
      "[250 rows x 18 columns]\n"
     ]
    }
   ],
   "source": [
    "output_"
   ]
  },
  {
   "cell_type": "code",
   "execution_count": null,
   "metadata": {},
   "outputs": [],
   "source": []
  }
 ],
 "metadata": {
  "kernelspec": {
   "display_name": "Python 3",
   "language": "python",
   "name": "python3"
  },
  "language_info": {
   "codemirror_mode": {
    "name": "ipython",
    "version": 3
   },
   "file_extension": ".py",
   "mimetype": "text/x-python",
   "name": "python",
   "nbconvert_exporter": "python",
   "pygments_lexer": "ipython3",
   "version": "3.8.5"
  }
 },
 "nbformat": 4,
 "nbformat_minor": 1
}
