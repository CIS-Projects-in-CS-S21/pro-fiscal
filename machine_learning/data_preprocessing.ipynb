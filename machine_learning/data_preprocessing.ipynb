{
 "cells": [
  {
   "cell_type": "code",
   "execution_count": 1,
   "metadata": {},
   "outputs": [],
   "source": [
    "import pandas as pd"
   ]
  },
  {
   "cell_type": "code",
   "execution_count": 5,
   "metadata": {
    "pycharm": {
     "is_executing": true,
     "name": "#%%\n"
    }
   },
   "outputs": [],
   "source": [
    "data = pd.read_csv(\"data_test1.csv\", names=[\"date\", \"cost\", \"description\", \"category\"])\n"
   ]
  },
  {
   "cell_type": "code",
   "execution_count": 10,
   "metadata": {},
   "outputs": [
    {
     "name": "stdout",
     "output_type": "stream",
     "text": [
      "           date     cost                               description  \\\n",
      "0    2014-08-11   184.22                               Ski tickets   \n",
      "1    2011-09-21  4034.86                               Edfinancial   \n",
      "2    2010-05-27   283.24                                  GME YOLO   \n",
      "3    2019-02-21  9012.58                                  Pet food   \n",
      "4    2015-01-09   850.34                                  GME YOLO   \n",
      "..          ...      ...                                       ...   \n",
      "245  2012-01-20  5812.81    Deposit in savings at Bank of the West   \n",
      "246  2018-01-10  3449.14  Blue Cross Bleu Shield of North Carolina   \n",
      "247  2017-07-22  5059.13                               Capital One   \n",
      "248  2010-05-01  1023.06                                ExxonMobil   \n",
      "249  2015-10-17   233.35                                  Vacation   \n",
      "\n",
      "               category  \n",
      "0        Non-Essentials  \n",
      "1             Education  \n",
      "2                 Other  \n",
      "3             Education  \n",
      "4                 Other  \n",
      "..                  ...  \n",
      "245             Savings  \n",
      "246  Medical/Healthcare  \n",
      "247           Education  \n",
      "248           Utilities  \n",
      "249       Entertainment  \n",
      "\n",
      "[250 rows x 4 columns]\n"
     ]
    }
   ],
   "source": [
    "print(data)"
   ]
  },
  {
   "cell_type": "code",
   "execution_count": null,
   "metadata": {},
   "outputs": [],
   "source": []
  }
 ],
 "metadata": {
  "kernelspec": {
   "display_name": "Python 3",
   "language": "python",
   "name": "python3"
  },
  "language_info": {
   "codemirror_mode": {
    "name": "ipython",
    "version": 3
   },
   "file_extension": ".py",
   "mimetype": "text/x-python",
   "name": "python",
   "nbconvert_exporter": "python",
   "pygments_lexer": "ipython3",
   "version": "3.8.5"
  }
 },
 "nbformat": 4,
 "nbformat_minor": 1
}
