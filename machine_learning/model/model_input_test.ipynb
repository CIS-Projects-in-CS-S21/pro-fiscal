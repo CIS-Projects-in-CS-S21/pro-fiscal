{
 "cells": [
  {
   "cell_type": "code",
   "execution_count": 1,
   "id": "0ca9affb",
   "metadata": {},
   "outputs": [],
   "source": [
    "import numpy as np\n",
    "import pandas as pd\n",
    "\n",
    "import pickle\n",
    "\n",
    "from nltk.tokenize import word_tokenize\n",
    "from nltk import pos_tag\n",
    "from nltk.corpus import stopwords\n",
    "from nltk.stem import WordNetLemmatizer\n",
    "from sklearn.preprocessing import LabelEncoder\n",
    "from collections import defaultdict\n",
    "from nltk.corpus import wordnet as wn\n",
    "from sklearn.feature_extraction.text import TfidfVectorizer\n",
    "\n",
    "from sklearn import svm"
   ]
  },
  {
   "cell_type": "code",
   "execution_count": 2,
   "id": "2aedcde9",
   "metadata": {},
   "outputs": [],
   "source": [
    "#Import pickled models\n",
    "clf = pickle.load(open('linear_clf.pkl', 'rb'))\n",
    "Tfidf_vect = pickle.load(open('Tfidf_vect.pkl', 'rb'))"
   ]
  },
  {
   "cell_type": "code",
   "execution_count": 3,
   "id": "b9c7b07a",
   "metadata": {},
   "outputs": [],
   "source": [
    "#create tag map for word pre-processing\n",
    "tag_map = defaultdict(lambda : wn.NOUN)\n",
    "tag_map['J'] = wn.ADJ\n",
    "tag_map['V'] = wn.VERB\n",
    "tag_map['R'] = wn.ADV"
   ]
  },
  {
   "cell_type": "code",
   "execution_count": 4,
   "id": "c7f6a88b",
   "metadata": {},
   "outputs": [],
   "source": [
    "def get_cat(cat_desc):\n",
    "    #list of the category names\n",
    "    cat_list = ['Housing', 'Transportation', 'Debt', 'Insurance',\n",
    "            'Utilities', 'Medical/Healthcare', 'Savings', 'Retirement',\n",
    "            'Education', 'Groceries/Household', 'Entertainment', 'Essentials',\n",
    "            'Non-Essentials', 'Other']\n",
    "    cat_desc = cat_desc.lower()\n",
    "    words = word_tokenize(cat_desc)\n",
    "    \n",
    "    #list of tokenized and processed words\n",
    "    Final_words = []\n",
    "    word_Lemmatized = WordNetLemmatizer()\n",
    "    # pos_tag function below will provide the 'tag' i.e if the word is Noun(N) or Verb(V) or something else.\n",
    "    for word, tag in pos_tag(words):\n",
    "        # Below condition is to check for Stop words and consider only alphabets\n",
    "        if word not in stopwords.words('english') and word.isalpha():\n",
    "            word_Final = word_Lemmatized.lemmatize(word,tag_map[tag[0]])\n",
    "            Final_words.append(word_Final)\n",
    "            \n",
    "    #transform words to vector from pickeled model\n",
    "    word_trans = Tfidf_vect.transform([str(Final_words)])\n",
    "    #predict classification num\n",
    "    prediction = clf.predict(word_trans)\n",
    "    #return string of predicted category\n",
    "    return (cat_list[prediction[0]])"
   ]
  },
  {
   "cell_type": "code",
   "execution_count": 5,
   "id": "9eaa44fd",
   "metadata": {},
   "outputs": [
    {
     "name": "stdout",
     "output_type": "stream",
     "text": [
      "Groceries/Household\n"
     ]
    }
   ],
   "source": [
    "print(get_cat('Food from Stop & Shop'))"
   ]
  },
  {
   "cell_type": "code",
   "execution_count": 6,
   "id": "40f6b6cd",
   "metadata": {},
   "outputs": [
    {
     "name": "stdout",
     "output_type": "stream",
     "text": [
      "Other\n"
     ]
    }
   ],
   "source": [
    "print(get_cat('Doge-coin YOLO'))"
   ]
  },
  {
   "cell_type": "code",
   "execution_count": null,
   "id": "1f41d83b",
   "metadata": {},
   "outputs": [],
   "source": []
  }
 ],
 "metadata": {
  "kernelspec": {
   "display_name": "Python 3",
   "language": "python",
   "name": "python3"
  },
  "language_info": {
   "codemirror_mode": {
    "name": "ipython",
    "version": 3
   },
   "file_extension": ".py",
   "mimetype": "text/x-python",
   "name": "python",
   "nbconvert_exporter": "python",
   "pygments_lexer": "ipython3",
   "version": "3.8.8"
  }
 },
 "nbformat": 4,
 "nbformat_minor": 5
}
